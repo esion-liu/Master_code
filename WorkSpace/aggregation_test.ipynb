{
 "cells": [
  {
   "cell_type": "markdown",
   "metadata": {},
   "source": [
    "Test of personal_pref.py"
   ]
  },
  {
   "cell_type": "code",
   "execution_count": 1,
   "metadata": {},
   "outputs": [],
   "source": [
    "from Aggregation import personal_perf"
   ]
  },
  {
   "cell_type": "code",
   "execution_count": 2,
   "metadata": {},
   "outputs": [],
   "source": [
    "# basic test\n",
    "t = [('GTA', 'CSGO'), ('CSGO', 'StarCraft'), ('GTA', 'StarCraft')]"
   ]
  },
  {
   "cell_type": "code",
   "execution_count": 3,
   "metadata": {},
   "outputs": [
    {
     "name": "stdout",
     "output_type": "stream",
     "text": [
      "['GTA', 'CSGO', 'StarCraft']\n"
     ]
    }
   ],
   "source": [
    "print(personal_perf.prefernce_generation(t))"
   ]
  },
  {
   "cell_type": "code",
   "execution_count": 4,
   "metadata": {},
   "outputs": [
    {
     "data": {
      "text/plain": [
       "['GTA', 'CSGO', 'StarCraft']"
      ]
     },
     "execution_count": 4,
     "metadata": {},
     "output_type": "execute_result"
    }
   ],
   "source": [
    "personal_perf.merge_sort_preference_generation(t)"
   ]
  },
  {
   "cell_type": "code",
   "execution_count": 5,
   "metadata": {},
   "outputs": [
    {
     "data": {
      "text/plain": [
       "['GTA', 'CSGO', 'StarCraft']"
      ]
     },
     "execution_count": 5,
     "metadata": {},
     "output_type": "execute_result"
    }
   ],
   "source": [
    "personal_perf.quick_sort_preference_generation(t)"
   ]
  },
  {
   "cell_type": "code",
   "execution_count": 6,
   "metadata": {},
   "outputs": [],
   "source": [
    "# test with real data\n",
    "import psycopg2\n",
    "import pickle"
   ]
  },
  {
   "cell_type": "code",
   "execution_count": 7,
   "metadata": {},
   "outputs": [
    {
     "name": "stdout",
     "output_type": "stream",
     "text": [
      "https://steamcommunity.com/profiles/76561197971248094/\n"
     ]
    }
   ],
   "source": [
    "with open('data/user_list.pickle', 'rb') as f:\n",
    "    user_list = pickle.load(f)\n",
    "print(user_list[0])"
   ]
  },
  {
   "cell_type": "code",
   "execution_count": 8,
   "metadata": {},
   "outputs": [],
   "source": [
    "postgres_conn_param = {\n",
    "    'host': 'localhost',\n",
    "    'port': '5432',\n",
    "    'user': 'postgres',\n",
    "    'password': 'Lyc199412',\n",
    "    'database': 'steam'\n",
    "}\n",
    "\n",
    "conn = psycopg2.connect(**postgres_conn_param)"
   ]
  },
  {
   "cell_type": "code",
   "execution_count": 9,
   "metadata": {},
   "outputs": [],
   "source": [
    "# \"CannotJudge\" is used when the LLM cannot judge the preferred alternative\n",
    "SQL = f\"\"\"\n",
    "SELECT gamea_name, gameb_name, prefered_game\n",
    "FROM llama3_pair\n",
    "WHERE reviewer_name = '{user_list[0]}'\n",
    "AND prefered_game != 'CannotJudge'\n",
    "\"\"\"\n",
    "cursor = conn.cursor()\n",
    "cursor.execute(SQL)\n",
    "personal_pairs = cursor.fetchall()"
   ]
  },
  {
   "cell_type": "code",
   "execution_count": 10,
   "metadata": {},
   "outputs": [
    {
     "data": {
      "text/plain": [
       "('Car Mechanic Simulator 2021',\n",
       " 'theHunter: Call of the Wild',\n",
       " 'theHunter: Call of the Wild')"
      ]
     },
     "execution_count": 10,
     "metadata": {},
     "output_type": "execute_result"
    }
   ],
   "source": [
    "personal_pairs[1]"
   ]
  },
  {
   "cell_type": "code",
   "execution_count": 11,
   "metadata": {},
   "outputs": [
    {
     "name": "stdout",
     "output_type": "stream",
     "text": [
      "[('House Flipper', 'Car Mechanic Simulator 2021'), ('theHunter: Call of the Wild', 'Car Mechanic Simulator 2021'), ('Garrys Mod', 'Car Mechanic Simulator 2021'), ('Green Hell', 'Car Mechanic Simulator 2021'), ('Tank Mechanic Simulator', 'Car Mechanic Simulator 2021'), ('Jurassic World Evolution', 'Car Mechanic Simulator 2021'), ('Car Mechanic Simulator 2018', 'Car Mechanic Simulator 2021'), ('Sid Meiers Pirates', 'Car Mechanic Simulator 2021'), ('Car Mechanic Simulator 2021', 'Motorcycle Mechanic Simulator 2021'), ('Forts', 'Car Mechanic Simulator 2021'), ('STAR WARS Battlefront II', 'Car Mechanic Simulator 2021'), ('Sea of Thieves: 2024 Edition', 'Car Mechanic Simulator 2021'), ('House Flipper', 'theHunter: Call of the Wild'), ('Garrys Mod', 'House Flipper'), ('House Flipper', 'Green Hell'), ('House Flipper', 'Tank Mechanic Simulator'), ('House Flipper', 'Jurassic World Evolution'), ('Car Mechanic Simulator 2018', 'House Flipper'), ('House Flipper', 'Sid Meiers Pirates'), ('House Flipper', 'Motorcycle Mechanic Simulator 2021'), ('Forts', 'House Flipper'), ('STAR WARS Battlefront II', 'House Flipper'), ('Sea of Thieves: 2024 Edition', 'House Flipper'), ('Garrys Mod', 'theHunter: Call of the Wild'), ('theHunter: Call of the Wild', 'Green Hell'), ('theHunter: Call of the Wild', 'Tank Mechanic Simulator'), ('Jurassic World Evolution', 'theHunter: Call of the Wild'), ('Car Mechanic Simulator 2018', 'theHunter: Call of the Wild'), ('Sid Meiers Pirates', 'theHunter: Call of the Wild'), ('Motorcycle Mechanic Simulator 2021', 'theHunter: Call of the Wild'), ('Forts', 'theHunter: Call of the Wild'), ('STAR WARS Battlefront II', 'theHunter: Call of the Wild'), ('Sea of Thieves: 2024 Edition', 'theHunter: Call of the Wild'), ('Garrys Mod', 'Green Hell'), ('Garrys Mod', 'Tank Mechanic Simulator'), ('Garrys Mod', 'Jurassic World Evolution'), ('Garrys Mod', 'Car Mechanic Simulator 2018'), ('Garrys Mod', 'Sid Meiers Pirates'), ('Garrys Mod', 'Motorcycle Mechanic Simulator 2021'), ('Garrys Mod', 'Forts'), ('Garrys Mod', 'STAR WARS Battlefront II'), ('Garrys Mod', 'Sea of Thieves: 2024 Edition'), ('Green Hell', 'Tank Mechanic Simulator'), ('Green Hell', 'Jurassic World Evolution'), ('Car Mechanic Simulator 2018', 'Green Hell'), ('Green Hell', 'Sid Meiers Pirates'), ('Green Hell', 'Motorcycle Mechanic Simulator 2021'), ('Forts', 'Green Hell'), ('Green Hell', 'STAR WARS Battlefront II'), ('Sea of Thieves: 2024 Edition', 'Green Hell'), ('Jurassic World Evolution', 'Tank Mechanic Simulator'), ('Car Mechanic Simulator 2018', 'Tank Mechanic Simulator'), ('Sid Meiers Pirates', 'Tank Mechanic Simulator'), ('Tank Mechanic Simulator', 'Motorcycle Mechanic Simulator 2021'), ('Forts', 'Tank Mechanic Simulator'), ('STAR WARS Battlefront II', 'Tank Mechanic Simulator'), ('Sea of Thieves: 2024 Edition', 'Tank Mechanic Simulator'), ('Car Mechanic Simulator 2018', 'Jurassic World Evolution'), ('Jurassic World Evolution', 'Sid Meiers Pirates'), ('Jurassic World Evolution', 'Motorcycle Mechanic Simulator 2021'), ('Forts', 'Jurassic World Evolution'), ('STAR WARS Battlefront II', 'Jurassic World Evolution'), ('Sea of Thieves: 2024 Edition', 'Jurassic World Evolution'), ('Car Mechanic Simulator 2018', 'Sid Meiers Pirates'), ('Car Mechanic Simulator 2018', 'Motorcycle Mechanic Simulator 2021'), ('Car Mechanic Simulator 2018', 'Forts'), ('Car Mechanic Simulator 2018', 'STAR WARS Battlefront II'), ('Car Mechanic Simulator 2018', 'Sea of Thieves: 2024 Edition'), ('Sid Meiers Pirates', 'Motorcycle Mechanic Simulator 2021'), ('Forts', 'Sid Meiers Pirates'), ('Sid Meiers Pirates', 'STAR WARS Battlefront II'), ('Sea of Thieves: 2024 Edition', 'Sid Meiers Pirates'), ('Forts', 'Motorcycle Mechanic Simulator 2021'), ('STAR WARS Battlefront II', 'Motorcycle Mechanic Simulator 2021'), ('Sea of Thieves: 2024 Edition', 'Motorcycle Mechanic Simulator 2021'), ('Forts', 'STAR WARS Battlefront II'), ('Forts', 'Sea of Thieves: 2024 Edition'), ('STAR WARS Battlefront II', 'Sea of Thieves: 2024 Edition')]\n"
     ]
    }
   ],
   "source": [
    "pref_pairs = []\n",
    "for i in personal_pairs:\n",
    "    if i[0] == i[2]:\n",
    "        pref_pairs.append((i[0], i[1]))\n",
    "    elif i[1] == i[2]:\n",
    "        pref_pairs.append((i[1], i[0]))\n",
    "print(pref_pairs)"
   ]
  },
  {
   "cell_type": "code",
   "execution_count": 12,
   "metadata": {},
   "outputs": [
    {
     "data": {
      "text/plain": [
       "['Garrys Mod',\n",
       " 'Car Mechanic Simulator 2018',\n",
       " 'Forts',\n",
       " 'Sea of Thieves: 2024 Edition',\n",
       " 'STAR WARS Battlefront II',\n",
       " 'House Flipper',\n",
       " 'Green Hell',\n",
       " 'Jurassic World Evolution',\n",
       " 'Sid Meiers Pirates',\n",
       " 'theHunter: Call of the Wild',\n",
       " 'Tank Mechanic Simulator',\n",
       " 'Car Mechanic Simulator 2021',\n",
       " 'Motorcycle Mechanic Simulator 2021']"
      ]
     },
     "execution_count": 12,
     "metadata": {},
     "output_type": "execute_result"
    }
   ],
   "source": [
    "personal_perf.prefernce_generation(pref_pairs)"
   ]
  },
  {
   "cell_type": "code",
   "execution_count": 13,
   "metadata": {},
   "outputs": [
    {
     "data": {
      "text/plain": [
       "['Garrys Mod',\n",
       " 'Car Mechanic Simulator 2018',\n",
       " 'Forts',\n",
       " 'STAR WARS Battlefront II',\n",
       " 'Sea of Thieves: 2024 Edition',\n",
       " 'House Flipper',\n",
       " 'theHunter: Call of the Wild',\n",
       " 'Green Hell',\n",
       " 'Jurassic World Evolution',\n",
       " 'Sid Meiers Pirates',\n",
       " 'Tank Mechanic Simulator',\n",
       " 'Car Mechanic Simulator 2021',\n",
       " 'Motorcycle Mechanic Simulator 2021']"
      ]
     },
     "execution_count": 13,
     "metadata": {},
     "output_type": "execute_result"
    }
   ],
   "source": [
    "personal_perf.merge_sort_preference_generation(pref_pairs)"
   ]
  },
  {
   "cell_type": "code",
   "execution_count": 14,
   "metadata": {},
   "outputs": [
    {
     "data": {
      "text/plain": [
       "['Garrys Mod',\n",
       " 'Car Mechanic Simulator 2018',\n",
       " 'Forts',\n",
       " 'STAR WARS Battlefront II',\n",
       " 'Sea of Thieves: 2024 Edition',\n",
       " 'House Flipper',\n",
       " 'Jurassic World Evolution',\n",
       " 'Sid Meiers Pirates',\n",
       " 'Motorcycle Mechanic Simulator 2021',\n",
       " 'theHunter: Call of the Wild',\n",
       " 'Green Hell',\n",
       " 'Tank Mechanic Simulator',\n",
       " 'Car Mechanic Simulator 2021']"
      ]
     },
     "execution_count": 14,
     "metadata": {},
     "output_type": "execute_result"
    }
   ],
   "source": [
    "personal_perf.quick_sort_preference_generation(pref_pairs)"
   ]
  },
  {
   "cell_type": "code",
   "execution_count": 15,
   "metadata": {},
   "outputs": [
    {
     "name": "stdout",
     "output_type": "stream",
     "text": [
      "game list loaded\n"
     ]
    }
   ],
   "source": [
    "# Test of sampling methods\n",
    "from Aggregation import sampling"
   ]
  },
  {
   "cell_type": "code",
   "execution_count": 16,
   "metadata": {},
   "outputs": [
    {
     "data": {
      "text/plain": [
       "['Garrys Mod',\n",
       " 'Car Mechanic Simulator 2018',\n",
       " 'Forts',\n",
       " 'Sea of Thieves: 2024 Edition',\n",
       " 'STAR WARS Battlefront II',\n",
       " 'House Flipper',\n",
       " 'Green Hell',\n",
       " 'Jurassic World Evolution',\n",
       " 'Sid Meiers Pirates',\n",
       " 'theHunter: Call of the Wild',\n",
       " 'Tank Mechanic Simulator',\n",
       " 'Car Mechanic Simulator 2021',\n",
       " 'Motorcycle Mechanic Simulator 2021']"
      ]
     },
     "execution_count": 16,
     "metadata": {},
     "output_type": "execute_result"
    }
   ],
   "source": [
    "personal_perf = personal_perf.prefernce_generation(pref_pairs)\n",
    "personal_perf"
   ]
  },
  {
   "cell_type": "code",
   "execution_count": 17,
   "metadata": {},
   "outputs": [
    {
     "data": {
      "text/plain": [
       "[2804, 324, 1073, 1741, 322, 335, 2675, 1804, 1543, 2575, 2464, 2089, 23]"
      ]
     },
     "execution_count": 17,
     "metadata": {},
     "output_type": "execute_result"
    }
   ],
   "source": [
    "personal_perf = sampling.index_convertion(personal_perf)\n",
    "personal_perf"
   ]
  },
  {
   "cell_type": "code",
   "execution_count": 118,
   "metadata": {},
   "outputs": [
    {
     "name": "stdout",
     "output_type": "stream",
     "text": [
      "1116\n",
      "1630\n",
      "1655\n",
      "2462\n",
      "2574\n",
      "2588\n",
      "2735\n",
      "2748\n",
      "2800\n",
      "2819\n",
      "2830\n",
      "2836\n",
      "2837\n"
     ]
    }
   ],
   "source": [
    "t = sampling.personal_perf_sampling(personal_perf, gamma=5.0, sample_number=1)[0]\n",
    "for i in personal_perf:\n",
    "    print(t.index(i))"
   ]
  }
 ],
 "metadata": {
  "kernelspec": {
   "display_name": "torch",
   "language": "python",
   "name": "python3"
  },
  "language_info": {
   "codemirror_mode": {
    "name": "ipython",
    "version": 3
   },
   "file_extension": ".py",
   "mimetype": "text/x-python",
   "name": "python",
   "nbconvert_exporter": "python",
   "pygments_lexer": "ipython3",
   "version": "3.10.14"
  }
 },
 "nbformat": 4,
 "nbformat_minor": 2
}
