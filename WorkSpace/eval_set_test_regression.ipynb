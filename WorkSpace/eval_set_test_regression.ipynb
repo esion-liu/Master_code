{
 "cells": [
  {
   "cell_type": "code",
   "execution_count": 1,
   "metadata": {},
   "outputs": [],
   "source": [
    "# this notebook is for performance testing with a validation set for proposed method with same alternatives but differnt set of users to validate the regression approach of preference estimation.\n",
    "game_list = [\n",
    "    \"Disco Elysium\",\n",
    "    \"Lies of P\",\n",
    "    \"Mafia III\",\n",
    "    \"Total War: WARHAMMER III\",\n",
    "    \"Resident Evil 3\",\n",
    "    \"Phasmophobia\",\n",
    "    \"Tom Clancy’s The Division 2\",\n",
    "    \"The Witcher 3: Wild Hunt\",\n",
    "    \"Fallout 76\",\n",
    "    \"Cities: Skylines\",\n",
    "    \"God of War: Ragnarok\",\n",
    "    \"Just Cause 3\",\n",
    "    \"Star Wars Jedi: Survivor\",\n",
    "    \"Resident Evil Village\",\n",
    "    \"Lightning Returns: Final Fantasy XIII\",\n",
    "    \"Elden Ring\",\n",
    "    \"Anno 2205\",\n",
    "    \"Pay Day 2\"\n",
    "]\n",
    "\n",
    "meta_scores = [91,80,68,86,77,76,82,92,52,85,94,74,85,84,66,96,72,79]\n",
    "\n",
    "# [RPG/Story, Action, Shooting, Open World, Strategy, Horror]\n",
    "pref_matrix = [\n",
    "    [1,0,0,0,0,0],\n",
    "    [0,1,0,0,0,0],\n",
    "    [0,0,0.5,0.5,0,0],\n",
    "    [0,0,0,0,1,0],\n",
    "    [0,0,0,0,0,1],\n",
    "    [0,0,0,0,0,1],\n",
    "    [0,0,0.5,0.5,0,0],\n",
    "    [0,0.5,0,0.5,0,0],\n",
    "    [0,0,0.5,0.5,0,0],\n",
    "    [0,0,0,0,1,0],\n",
    "    [0.5,0.5,0,0,0,0],\n",
    "    [0,0,0,1,0,0],\n",
    "    [0,1,0,0,0,0],\n",
    "    [0,0,0,0,0,1],\n",
    "    [0.5,0.5,0,0,0,0],\n",
    "    [0,0.5,0,0.5,0,0],\n",
    "    [0,0,0,0,1,0],\n",
    "    [0,0,1,0,0,0]\n",
    "]"
   ]
  },
  {
   "cell_type": "code",
   "execution_count": 2,
   "metadata": {},
   "outputs": [],
   "source": [
    "def questionnare_generation(scores, meta_scores):\n",
    "\n",
    "    bscore = (scores[0] - meta_scores[0])\n",
    "    if bscore <= 3 and bscore > -3:\n",
    "        rpg_star = 3\n",
    "    elif bscore <= 6 and bscore > 3:\n",
    "        rpg_star = 4\n",
    "    elif bscore > 6:\n",
    "        rpg_star = 5\n",
    "    elif bscore <= -3 and bscore > -6:\n",
    "        rpg_star = 2\n",
    "    else:\n",
    "        rpg_star = 1\n",
    "\n",
    "    bscore = (scores[1] - meta_scores[1])\n",
    "    if bscore <= 3 and bscore > -3:\n",
    "        act_star = 3\n",
    "    elif bscore <= 6 and bscore > 3:\n",
    "        act_star = 4\n",
    "    elif bscore > 6:\n",
    "        act_star = 5\n",
    "    elif bscore <= -3 and bscore > -6:\n",
    "        act_star = 2\n",
    "    else:\n",
    "        act_star = 1\n",
    "\n",
    "    bscore = (scores[17] - meta_scores[17])\n",
    "    if bscore <= 3 and bscore > -3:\n",
    "        fps_star = 3\n",
    "    elif bscore <= 6 and bscore > 3:\n",
    "        fps_star = 4\n",
    "    elif bscore > 6:\n",
    "        fps_star = 5\n",
    "    elif bscore <= -3 and bscore > -6:\n",
    "        fps_star = 2\n",
    "    else:\n",
    "        fps_star = 1\n",
    "\n",
    "    bscore = (scores[11] - meta_scores[11])\n",
    "    if bscore <= 3 and bscore > -3:\n",
    "        ow_star = 3\n",
    "    elif bscore <= 6 and bscore > 3:\n",
    "        ow_star = 4\n",
    "    elif bscore > 6:\n",
    "        ow_star = 5\n",
    "    elif bscore <= -3 and bscore > -6:\n",
    "        ow_star = 2\n",
    "    else:\n",
    "        ow_star = 1\n",
    "\n",
    "    bscore = (scores[3] - meta_scores[3])\n",
    "    if bscore <= 3 and bscore > -3:\n",
    "        rts_star = 3\n",
    "    elif bscore <= 6 and bscore > 3:\n",
    "        rts_star = 4\n",
    "    elif bscore > 6:\n",
    "        rts_star = 5\n",
    "    elif bscore <= -3 and bscore > -6:\n",
    "        rts_star = 2\n",
    "    else:\n",
    "        rts_star = 1\n",
    "    \n",
    "    bscore = (scores[4] - meta_scores[4])\n",
    "    if bscore <= 3 and bscore > -3:\n",
    "        hor_star = 3\n",
    "    elif bscore <= 6 and bscore > 3:\n",
    "        hor_star = 4\n",
    "    elif bscore > 6:\n",
    "        hor_star = 5\n",
    "    elif bscore <= -3 and bscore > -6:\n",
    "        hor_star = 2\n",
    "    else:\n",
    "        hor_star = 1\n",
    "\n",
    "    return (rpg_star, act_star, fps_star, ow_star, rts_star, hor_star)\n",
    "    "
   ]
  },
  {
   "cell_type": "code",
   "execution_count": 3,
   "metadata": {},
   "outputs": [],
   "source": [
    "# copy the scores of the train dataset\n",
    "train_scores = [[96, 70, 65, 85, 77, 76, 79, 87, 49, 84, 92, 73, 75, 84, 64, 91, 71, 74],\n",
    " [99, 76, 68, 83, 73, 72, 82, 89, 52, 82, 96, 72, 81, 80, 68, 93, 69, 81],\n",
    " [82, 87, 69, 85, 71, 70, 83, 96, 53, 84, 93, 74, 92, 78, 65, 100, 71, 81],\n",
    " [98, 77, 65, 87, 72, 71, 79, 90, 49, 86, 96, 74, 82, 79, 68, 94, 73, 74],\n",
    " [84, 77, 68, 88, 79, 78, 82, 90, 52, 87, 89, 72, 82, 86, 61, 94, 74, 81],\n",
    " [88, 84, 70, 90, 75, 74, 84, 96, 54, 89, 94, 79, 89, 82, 66, 100, 76, 79],\n",
    " [86, 79, 68, 78, 73, 72, 82, 89, 52, 77, 91, 68, 84, 80, 63, 93, 64, 84],\n",
    " [88, 89, 70, 82, 81, 80, 84, 98, 54, 81, 97, 76, 94, 88, 69, 100, 68, 80],\n",
    " [94, 80, 65, 83, 70, 69, 79, 90, 49, 82, 95, 69, 85, 77, 67, 94, 69, 78],\n",
    " [99, 80, 63, 89, 82, 81, 77, 90, 47, 88, 98, 71, 85, 89, 70, 94, 75, 71],\n",
    " [94, 73, 65, 93, 80, 79, 79, 89, 49, 92, 92, 75, 78, 87, 64, 93, 79, 72],\n",
    " [85, 77, 73, 93, 84, 83, 87, 97, 57, 92, 90, 87, 82, 91, 62, 100, 79, 76],\n",
    " [87, 70, 71, 86, 74, 73, 85, 87, 55, 85, 87, 74, 75, 81, 59, 91, 72, 84],\n",
    " [92, 84, 64, 88, 82, 81, 78, 91, 48, 87, 96, 68, 89, 89, 68, 95, 74, 78],\n",
    " [87, 84, 65, 89, 72, 71, 79, 90, 49, 88, 94, 67, 89, 79, 66, 94, 75, 80],\n",
    " [98, 84, 66, 77, 77, 76, 80, 92, 50, 76, 99, 70, 89, 84, 71, 96, 63, 80],\n",
    " [98, 77, 67, 85, 81, 80, 81, 89, 51, 84, 96, 72, 82, 88, 68, 93, 71, 80],\n",
    " [99, 78, 65, 84, 76, 75, 79, 91, 49, 83, 97, 73, 83, 83, 69, 95, 70, 74],\n",
    " [88, 78, 60, 91, 71, 70, 74, 86, 44, 90, 91, 65, 83, 78, 63, 90, 77, 72],\n",
    " [83, 76, 70, 88, 79, 78, 84, 90, 54, 87, 88, 74, 81, 86, 60, 94, 74, 82],\n",
    " [91, 85, 70, 94, 74, 73, 84, 96, 54, 93, 96, 76, 90, 81, 68, 100, 80, 80],\n",
    " [87, 85, 74, 92, 83, 82, 88, 98, 58, 91, 95, 82, 90, 90, 67, 100, 78, 83],\n",
    " [88, 83, 67, 79, 80, 79, 81, 97, 51, 78, 94, 80, 88, 87, 66, 100, 65, 71],\n",
    " [78, 86, 66, 90, 85, 84, 80, 94, 50, 89, 91, 73, 91, 92, 63, 98, 76, 76],\n",
    " [98, 82, 68, 85, 78, 77, 82, 92, 52, 84, 98, 73, 87, 85, 70, 96, 71, 79],\n",
    " [95, 80, 71, 84, 76, 75, 85, 88, 55, 83, 96, 66, 85, 83, 68, 92, 70, 93],\n",
    " [91, 73, 77, 94, 77, 76, 91, 93, 61, 93, 90, 84, 78, 84, 62, 97, 80, 86],\n",
    " [92, 80, 69, 83, 76, 75, 83, 88, 53, 82, 95, 66, 85, 83, 67, 92, 69, 89],\n",
    " [88, 80, 67, 89, 76, 75, 81, 95, 51, 88, 93, 79, 85, 83, 65, 99, 75, 71],\n",
    " [88, 82, 66, 86, 76, 75, 80, 95, 50, 85, 94, 77, 87, 83, 66, 99, 72, 72],\n",
    " [93, 85, 70, 81, 83, 82, 84, 95, 54, 80, 97, 76, 90, 90, 69, 99, 67, 81],\n",
    " [88, 81, 68, 89, 79, 78, 82, 93, 52, 88, 93, 75, 86, 86, 65, 97, 75, 79],\n",
    " [89, 77, 68, 96, 74, 73, 82, 90, 52, 95, 92, 72, 82, 81, 64, 94, 82, 80],\n",
    " [97, 83, 69, 90, 75, 74, 83, 94, 53, 89, 98, 75, 88, 82, 70, 98, 76, 80],\n",
    " [91, 79, 72, 88, 81, 80, 86, 95, 56, 87, 94, 80, 84, 88, 66, 99, 74, 81],\n",
    " [91, 80, 62, 91, 75, 74, 76, 86, 46, 90, 94, 62, 85, 82, 66, 90, 77, 80],\n",
    " [86, 75, 69, 85, 82, 81, 83, 94, 53, 84, 89, 82, 80, 89, 61, 98, 71, 72],\n",
    " [97, 78, 70, 81, 75, 74, 84, 95, 54, 80, 96, 82, 83, 82, 68, 99, 67, 75],\n",
    " [91, 78, 65, 86, 80, 79, 79, 89, 49, 85, 93, 70, 83, 87, 65, 93, 72, 77],\n",
    " [90, 82, 66, 91, 73, 72, 80, 91, 50, 90, 95, 69, 87, 80, 67, 95, 77, 80],\n",
    " [92, 79, 72, 83, 72, 71, 86, 92, 56, 82, 94, 75, 84, 79, 66, 96, 69, 86],\n",
    " [92, 77, 66, 90, 75, 74, 80, 91, 50, 89, 93, 74, 82, 82, 65, 95, 76, 74],\n",
    " [99, 80, 71, 83, 76, 75, 85, 93, 55, 82, 98, 76, 85, 83, 70, 97, 69, 83],\n",
    " [96, 81, 68, 90, 82, 81, 82, 94, 52, 89, 97, 78, 86, 89, 69, 98, 76, 74],\n",
    " [93, 80, 69, 84, 71, 70, 83, 90, 53, 83, 95, 70, 85, 78, 67, 94, 70, 85],\n",
    " [98, 74, 62, 95, 68, 67, 76, 82, 46, 94, 95, 60, 79, 75, 67, 86, 81, 81],\n",
    " [92, 90, 69, 87, 71, 70, 83, 96, 53, 86, 99, 72, 95, 78, 71, 100, 73, 82],\n",
    " [91, 79, 68, 86, 78, 77, 82, 91, 52, 85, 94, 72, 84, 85, 66, 95, 72, 81],\n",
    " [98, 81, 66, 88, 84, 83, 80, 91, 50, 87, 98, 72, 86, 91, 70, 95, 74, 76],\n",
    " [91, 83, 65, 94, 78, 77, 79, 92, 49, 93, 96, 72, 88, 85, 68, 96, 80, 75]]"
   ]
  },
  {
   "cell_type": "code",
   "execution_count": 4,
   "metadata": {},
   "outputs": [],
   "source": [
    "questionnares = []\n",
    "for i in range(50):\n",
    "    questionnares.append(questionnare_generation(train_scores[i], meta_scores))"
   ]
  },
  {
   "cell_type": "code",
   "execution_count": 5,
   "metadata": {},
   "outputs": [],
   "source": [
    "# copied from the unsloth llama3 workspace, which is the profile infered by finetuned llama-3-8b-instruct\n",
    "profile_llama3 = [[0, 7, 10, 3, 15, 9, 5, 13, 4, 2, 6, 11, 1, 12, 17, 16, 14, 8],\n",
    " [0, 7, 10, 15, 1, 3, 6, 9, 12, 13, 2, 5, 4, 17, 11, 16, 14, 8],\n",
    " [0, 7, 10, 1, 12, 15, 3, 9, 6, 13, 4, 2, 5, 17, 11, 16, 14, 8],\n",
    " [0, 7, 10, 3, 1, 12, 15, 9, 6, 4, 13, 11, 5, 17, 2, 16, 14, 8],\n",
    " [0, 7, 3, 10, 15, 1, 9, 12, 4, 5, 6, 13, 2, 17, 11, 16, 14, 8],\n",
    " [0, 7, 10, 15, 1, 12, 3, 9, 4, 6, 11, 13, 5, 2, 17, 16, 14, 8],\n",
    " [0, 7, 10, 1, 15, 12, 3, 6, 9, 13, 4, 5, 11, 17, 2, 16, 14, 8],\n",
    " [0, 7, 1, 10, 12, 15, 3, 4, 6, 13, 5, 9, 11, 17, 2, 16, 14, 8],\n",
    " [0, 7, 10, 15, 1, 12, 3, 9, 13, 11, 17, 6, 2, 4, 5, 16, 8, 14],\n",
    " [0, 7, 10, 15, 3, 13, 1, 4, 12, 9, 5, 11, 2, 17, 6, 16, 14, 8],\n",
    " [0, 7, 3, 9, 10, 13, 15, 4, 5, 11, 17, 6, 1, 12, 16, 2, 14, 8],\n",
    " [0, 7, 10, 15, 3, 1, 4, 9, 12, 13, 6, 2, 5, 11, 17, 16, 14, 8],\n",
    " [0, 7, 10, 15, 3, 6, 9, 13, 12, 17, 4, 2, 5, 11, 1, 14, 16, 8],\n",
    " [0, 7, 10, 12, 3, 1, 13, 15, 9, 4, 5, 6, 2, 11, 17, 16, 14, 8],\n",
    " [0, 7, 10, 15, 9, 1, 3, 12, 4, 13, 5, 6, 17, 2, 11, 14, 16, 8],\n",
    " [0, 10, 7, 12, 1, 15, 13, 4, 6, 3, 5, 9, 17, 11, 2, 16, 14, 8],\n",
    " [0, 7, 10, 3, 4, 13, 15, 1, 12, 9, 6, 5, 17, 11, 2, 16, 14, 8],\n",
    " [0, 7, 10, 15, 1, 12, 3, 9, 13, 4, 5, 11, 6, 17, 2, 16, 14, 8],\n",
    " [0, 7, 3, 10, 9, 15, 12, 1, 13, 4, 5, 17, 6, 11, 16, 14, 2, 8],\n",
    " [0, 7, 3, 10, 4, 6, 15, 9, 13, 12, 1, 2, 5, 17, 11, 16, 14, 8],\n",
    " [0, 7, 10, 15, 3, 1, 6, 12, 9, 13, 4, 5, 2, 11, 17, 16, 14, 8],\n",
    " [0, 7, 10, 15, 1, 3, 9, 12, 4, 6, 5, 13, 11, 17, 2, 16, 14, 8],\n",
    " [0, 7, 10, 12, 15, 13, 1, 3, 4, 5, 9, 6, 11, 17, 16, 14, 2, 8],\n",
    " [7, 0, 1, 15, 3, 5, 10, 9, 12, 4, 13, 6, 11, 17, 2, 16, 14, 8],\n",
    " [0, 7, 10, 1, 12, 3, 15, 4, 9, 13, 5, 6, 11, 17, 2, 16, 14, 8],\n",
    " [0, 10, 7, 12, 3, 1, 15, 9, 13, 5, 6, 4, 17, 2, 11, 16, 14, 8],\n",
    " [0, 7, 3, 10, 9, 6, 15, 11, 13, 4, 5, 2, 12, 17, 16, 14, 1, 8],\n",
    " [0, 7, 10, 3, 15, 12, 1, 13, 6, 9, 4, 5, 17, 11, 2, 16, 14, 8],\n",
    " [0, 7, 10, 12, 15, 3, 9, 1, 13, 4, 6, 11, 5, 2, 17, 16, 14, 8],\n",
    " [0, 7, 10, 15, 1, 3, 12, 9, 4, 6, 13, 5, 11, 17, 2, 16, 14, 8],\n",
    " [0, 7, 10, 12, 1, 15, 13, 3, 4, 5, 9, 6, 2, 11, 17, 16, 14, 8],\n",
    " [0, 7, 3, 10, 12, 1, 15, 9, 4, 13, 5, 6, 11, 2, 17, 16, 14, 8],\n",
    " [0, 3, 7, 9, 10, 15, 6, 12, 13, 1, 4, 5, 17, 11, 2, 16, 14, 8],\n",
    " [0, 7, 10, 1, 12, 3, 15, 9, 6, 13, 4, 5, 11, 2, 17, 16, 14, 8],\n",
    " [0, 7, 10, 1, 3, 12, 15, 9, 4, 6, 13, 5, 11, 2, 17, 16, 14, 8],\n",
    " [0, 7, 10, 9, 1, 12, 3, 15, 13, 4, 5, 6, 17, 11, 16, 14, 2, 8],\n",
    " [0, 7, 10, 3, 15, 4, 5, 13, 9, 12, 6, 1, 11, 2, 17, 16, 14, 8],\n",
    " [0, 7, 10, 15, 6, 3, 9, 11, 12, 13, 1, 4, 5, 17, 2, 16, 14, 8],\n",
    " [0, 7, 10, 3, 9, 15, 4, 12, 13, 5, 6, 1, 11, 17, 2, 16, 14, 8],\n",
    " [0, 10, 7, 1, 12, 15, 3, 9, 4, 6, 13, 5, 17, 11, 2, 16, 14, 8],\n",
    " [0, 7, 10, 3, 15, 6, 1, 12, 9, 13, 11, 5, 17, 2, 4, 16, 14, 8],\n",
    " [0, 7, 10, 3, 9, 15, 12, 13, 1, 4, 6, 5, 17, 11, 2, 16, 14, 8],\n",
    " [0, 7, 10, 15, 3, 1, 12, 6, 9, 13, 4, 2, 17, 5, 11, 16, 14, 8],\n",
    " [0, 7, 10, 3, 12, 15, 9, 13, 5, 1, 4, 6, 11, 17, 2, 16, 14, 8],\n",
    " [0, 7, 10, 15, 12, 1, 3, 9, 13, 6, 5, 17, 4, 2, 11, 16, 14, 8],\n",
    " [0, 3, 10, 7, 9, 15, 12, 17, 6, 13, 1, 5, 16, 11, 4, 2, 14, 8],\n",
    " [0, 7, 10, 1, 15, 3, 9, 12, 6, 13, 4, 5, 17, 11, 2, 16, 14, 8],\n",
    " [0, 7, 10, 3, 9, 15, 12, 1, 13, 6, 4, 5, 17, 11, 2, 16, 14, 8],\n",
    " [0, 7, 10, 3, 4, 12, 13, 15, 1, 9, 5, 6, 17, 11, 2, 16, 14, 8],\n",
    " [0, 7, 10, 9, 1, 12, 15, 3, 13, 4, 5, 6, 2, 17, 11, 16, 14, 8]]"
   ]
  },
  {
   "cell_type": "code",
   "execution_count": 6,
   "metadata": {},
   "outputs": [
    {
     "name": "stdout",
     "output_type": "stream",
     "text": [
      "game list loaded\n",
      "iteration 0: average likelihood (log_value) is   -0.8356040921467569\n",
      "iteration 1: average likelihood (log_value) is   -0.5909482014204284\n",
      "iteration 2: average likelihood (log_value) is   -0.5845151047626741\n",
      "iteration 3: average likelihood (log_value) is   -0.5757221980159969\n",
      "iteration 4: average likelihood (log_value) is   -0.5711685660657877\n",
      "iteration 5: average likelihood (log_value) is   -0.569967418223608\n",
      "iteration 6: average likelihood (log_value) is   -0.5689425102734532\n",
      "iteration 7: average likelihood (log_value) is   -0.5653377005608253\n",
      "iteration 8: average likelihood (log_value) is   -0.5623776444900259\n",
      "iteration 9: average likelihood (log_value) is   -0.5595139431614724\n",
      "iteration 10: average likelihood (log_value) is   -0.5584894402006175\n",
      "iteration 11: average likelihood (log_value) is   -0.39198411691449936\n",
      "iteration 12: average likelihood (log_value) is   -0.3831214449447687\n",
      "iteration 13: average likelihood (log_value) is   -0.379465324151149\n",
      "iteration 14: average likelihood (log_value) is   -0.3740536352626716\n",
      "iteration 15: average likelihood (log_value) is   -0.36981343992180593\n",
      "iteration 16: average likelihood (log_value) is   -0.36480607434575457\n",
      "iteration 17: average likelihood (log_value) is   -0.3611023891865049\n",
      "iteration 18: average likelihood (log_value) is   -0.36129809433179494\n",
      "iteration 19: average likelihood (log_value) is   -0.35620615077891365\n",
      "iteration 20: average likelihood (log_value) is   -0.35666536419792805\n",
      "iteration 21: average likelihood (log_value) is   -0.17303486774533453\n",
      "iteration 22: average likelihood (log_value) is   -0.15848050653050433\n",
      "iteration 23: average likelihood (log_value) is   -0.14741181703237288\n",
      "iteration 24: average likelihood (log_value) is   -0.14003323442519292\n",
      "iteration 25: average likelihood (log_value) is   -0.13461328014994622\n",
      "iteration 26: average likelihood (log_value) is   -0.1288245501172152\n",
      "iteration 27: average likelihood (log_value) is   -0.12310435315206335\n",
      "iteration 28: average likelihood (log_value) is   -0.1213545412064693\n",
      "iteration 29: average likelihood (log_value) is   -0.11576354914145402\n",
      "iteration 30: average likelihood (log_value) is   -0.11376846802674812\n",
      "iteration 31: average likelihood (log_value) is   -0.052676920137190796\n",
      "iteration 32: average likelihood (log_value) is   -0.04870139363132639\n",
      "iteration 33: average likelihood (log_value) is   -0.043504859447775567\n",
      "iteration 34: average likelihood (log_value) is   -0.038398977457096764\n",
      "iteration 35: average likelihood (log_value) is   -0.03620397536111566\n",
      "iteration 36: average likelihood (log_value) is   -0.03342833388115701\n",
      "iteration 37: average likelihood (log_value) is   -0.03186662301430252\n",
      "iteration 38: average likelihood (log_value) is   -0.029548839973960267\n",
      "iteration 39: average likelihood (log_value) is   -0.027142812580480926\n",
      "iteration 40: average likelihood (log_value) is   -0.026064509755687148\n",
      "iteration 41: average likelihood (log_value) is   0.027697477871269967\n",
      "iteration 42: average likelihood (log_value) is   0.031177707534162727\n",
      "iteration 43: average likelihood (log_value) is   0.034648365268841776\n",
      "iteration 44: average likelihood (log_value) is   0.03667387220774441\n",
      "iteration 45: average likelihood (log_value) is   0.038733553885467537\n",
      "iteration 46: average likelihood (log_value) is   0.03953738777985282\n",
      "iteration 47: average likelihood (log_value) is   0.042101776190702336\n",
      "iteration 48: average likelihood (log_value) is   0.04335052962769611\n",
      "iteration 49: average likelihood (log_value) is   0.044144141332530244\n"
     ]
    }
   ],
   "source": [
    "import Aggregation.sampling as sp\n",
    "\n",
    "schedule = []\n",
    "for _ in range(10):\n",
    "    schedule.append((0.6, 1.5))\n",
    "for _ in range(10):\n",
    "    schedule.append((0.4, 1.0))\n",
    "for _ in range(10):\n",
    "    schedule.append((0.2, 0.6))\n",
    "for _ in range(10):\n",
    "    schedule.append((0.15, 0.4))\n",
    "for _ in range(10):\n",
    "    schedule.append((0.1, 0.2))\n",
    "\n",
    "log = sp.theta_estimation(profile_llama3, alternative_number=18, iteration=50, sampling_rate=1000, keep_rate=100, resampling_schedule=schedule)"
   ]
  },
  {
   "cell_type": "code",
   "execution_count": 7,
   "metadata": {},
   "outputs": [],
   "source": [
    "import numpy as np\n",
    "zeta_estimation = log[49]['zeta_estimation']"
   ]
  },
  {
   "cell_type": "code",
   "execution_count": 8,
   "metadata": {},
   "outputs": [],
   "source": [
    "theta_estimation = log[49]['theta_estimation']"
   ]
  },
  {
   "cell_type": "code",
   "execution_count": 9,
   "metadata": {},
   "outputs": [],
   "source": [
    "#normalize zeta to make it has a mean of 0.\n",
    "zeta_est_avg = np.mean(zeta_estimation, axis=0)\n",
    "zeta_norm_est = zeta_estimation - np.tile(zeta_est_avg, (50, 1))"
   ]
  },
  {
   "cell_type": "code",
   "execution_count": 10,
   "metadata": {},
   "outputs": [],
   "source": [
    "# get X of regression model\n",
    "# X = stars + game title\n",
    "stars = []\n",
    "titles = []\n",
    "for i in range (50):\n",
    "    for j in range(18):\n",
    "        stars.append(list(questionnares[i]))\n",
    "        titles.append(j)\n",
    "stars = np.array(stars)\n",
    "titles = np.array(titles)\n"
   ]
  },
  {
   "cell_type": "code",
   "execution_count": 11,
   "metadata": {},
   "outputs": [],
   "source": [
    "outputs = zeta_norm_est.reshape(-1)"
   ]
  },
  {
   "cell_type": "code",
   "execution_count": null,
   "metadata": {},
   "outputs": [],
   "source": [
    "#be careful here\n",
    "outputs = outputs * 100"
   ]
  },
  {
   "cell_type": "code",
   "execution_count": 20,
   "metadata": {},
   "outputs": [
    {
     "data": {
      "text/plain": [
       "-2.7339562984219836"
      ]
     },
     "execution_count": 20,
     "metadata": {},
     "output_type": "execute_result"
    }
   ],
   "source": [
    "np.min(outputs)"
   ]
  },
  {
   "cell_type": "code",
   "execution_count": 13,
   "metadata": {},
   "outputs": [],
   "source": [
    "#define the regression model\n",
    "import tensorflow as tf\n",
    "from tensorflow.keras.models import Model\n",
    "from tensorflow.keras.layers import Input, Dense, Concatenate, Embedding, Flatten, LayerNormalization\n"
   ]
  },
  {
   "cell_type": "code",
   "execution_count": 21,
   "metadata": {},
   "outputs": [],
   "source": [
    "scores_input = Input(shape=(6,), name='scores_input')\n",
    "title_input = Input(shape=(1,), name='title_input')\n",
    "\n",
    "normalized_scores = LayerNormalization(name=\"score_norm\")(scores_input)\n",
    "\n",
    "title_embd = Embedding(input_dim=18+1, output_dim=4, name='title_embd')(title_input)\n",
    "title_embd_flat = Flatten()(title_embd)\n",
    "\n",
    "concat_input = Concatenate()([normalized_scores, title_embd_flat])\n",
    "\n",
    "hidden_layer_1 = Dense(64, activation=\"relu\")(concat_input)\n",
    "hidden_layer_2 = Dense(48, activation=\"relu\")(hidden_layer_1)\n",
    "hidden_layer_3 = Dense(32, activation=\"relu\")(hidden_layer_2)\n",
    "out_layer = Dense(1, activation=\"linear\")(hidden_layer_3)"
   ]
  },
  {
   "cell_type": "code",
   "execution_count": 22,
   "metadata": {},
   "outputs": [
    {
     "data": {
      "text/html": [
       "<pre style=\"white-space:pre;overflow-x:auto;line-height:normal;font-family:Menlo,'DejaVu Sans Mono',consolas,'Courier New',monospace\"><span style=\"font-weight: bold\">Model: \"functional_1\"</span>\n",
       "</pre>\n"
      ],
      "text/plain": [
       "\u001b[1mModel: \"functional_1\"\u001b[0m\n"
      ]
     },
     "metadata": {},
     "output_type": "display_data"
    },
    {
     "data": {
      "text/html": [
       "<pre style=\"white-space:pre;overflow-x:auto;line-height:normal;font-family:Menlo,'DejaVu Sans Mono',consolas,'Courier New',monospace\">┏━━━━━━━━━━━━━━━━━━━━━┳━━━━━━━━━━━━━━━━━━━┳━━━━━━━━━━━━┳━━━━━━━━━━━━━━━━━━━┓\n",
       "┃<span style=\"font-weight: bold\"> Layer (type)        </span>┃<span style=\"font-weight: bold\"> Output Shape      </span>┃<span style=\"font-weight: bold\">    Param # </span>┃<span style=\"font-weight: bold\"> Connected to      </span>┃\n",
       "┡━━━━━━━━━━━━━━━━━━━━━╇━━━━━━━━━━━━━━━━━━━╇━━━━━━━━━━━━╇━━━━━━━━━━━━━━━━━━━┩\n",
       "│ title_input         │ (<span style=\"color: #00d7ff; text-decoration-color: #00d7ff\">None</span>, <span style=\"color: #00af00; text-decoration-color: #00af00\">1</span>)         │          <span style=\"color: #00af00; text-decoration-color: #00af00\">0</span> │ -                 │\n",
       "│ (<span style=\"color: #0087ff; text-decoration-color: #0087ff\">InputLayer</span>)        │                   │            │                   │\n",
       "├─────────────────────┼───────────────────┼────────────┼───────────────────┤\n",
       "│ scores_input        │ (<span style=\"color: #00d7ff; text-decoration-color: #00d7ff\">None</span>, <span style=\"color: #00af00; text-decoration-color: #00af00\">6</span>)         │          <span style=\"color: #00af00; text-decoration-color: #00af00\">0</span> │ -                 │\n",
       "│ (<span style=\"color: #0087ff; text-decoration-color: #0087ff\">InputLayer</span>)        │                   │            │                   │\n",
       "├─────────────────────┼───────────────────┼────────────┼───────────────────┤\n",
       "│ title_embd          │ (<span style=\"color: #00d7ff; text-decoration-color: #00d7ff\">None</span>, <span style=\"color: #00af00; text-decoration-color: #00af00\">1</span>, <span style=\"color: #00af00; text-decoration-color: #00af00\">4</span>)      │         <span style=\"color: #00af00; text-decoration-color: #00af00\">76</span> │ title_input[<span style=\"color: #00af00; text-decoration-color: #00af00\">0</span>][<span style=\"color: #00af00; text-decoration-color: #00af00\">0</span>] │\n",
       "│ (<span style=\"color: #0087ff; text-decoration-color: #0087ff\">Embedding</span>)         │                   │            │                   │\n",
       "├─────────────────────┼───────────────────┼────────────┼───────────────────┤\n",
       "│ score_norm          │ (<span style=\"color: #00d7ff; text-decoration-color: #00d7ff\">None</span>, <span style=\"color: #00af00; text-decoration-color: #00af00\">6</span>)         │         <span style=\"color: #00af00; text-decoration-color: #00af00\">12</span> │ scores_input[<span style=\"color: #00af00; text-decoration-color: #00af00\">0</span>][<span style=\"color: #00af00; text-decoration-color: #00af00\">…</span> │\n",
       "│ (<span style=\"color: #0087ff; text-decoration-color: #0087ff\">LayerNormalizatio…</span> │                   │            │                   │\n",
       "├─────────────────────┼───────────────────┼────────────┼───────────────────┤\n",
       "│ flatten_1 (<span style=\"color: #0087ff; text-decoration-color: #0087ff\">Flatten</span>) │ (<span style=\"color: #00d7ff; text-decoration-color: #00d7ff\">None</span>, <span style=\"color: #00af00; text-decoration-color: #00af00\">4</span>)         │          <span style=\"color: #00af00; text-decoration-color: #00af00\">0</span> │ title_embd[<span style=\"color: #00af00; text-decoration-color: #00af00\">0</span>][<span style=\"color: #00af00; text-decoration-color: #00af00\">0</span>]  │\n",
       "├─────────────────────┼───────────────────┼────────────┼───────────────────┤\n",
       "│ concatenate_1       │ (<span style=\"color: #00d7ff; text-decoration-color: #00d7ff\">None</span>, <span style=\"color: #00af00; text-decoration-color: #00af00\">10</span>)        │          <span style=\"color: #00af00; text-decoration-color: #00af00\">0</span> │ score_norm[<span style=\"color: #00af00; text-decoration-color: #00af00\">0</span>][<span style=\"color: #00af00; text-decoration-color: #00af00\">0</span>], │\n",
       "│ (<span style=\"color: #0087ff; text-decoration-color: #0087ff\">Concatenate</span>)       │                   │            │ flatten_1[<span style=\"color: #00af00; text-decoration-color: #00af00\">0</span>][<span style=\"color: #00af00; text-decoration-color: #00af00\">0</span>]   │\n",
       "├─────────────────────┼───────────────────┼────────────┼───────────────────┤\n",
       "│ dense_4 (<span style=\"color: #0087ff; text-decoration-color: #0087ff\">Dense</span>)     │ (<span style=\"color: #00d7ff; text-decoration-color: #00d7ff\">None</span>, <span style=\"color: #00af00; text-decoration-color: #00af00\">64</span>)        │        <span style=\"color: #00af00; text-decoration-color: #00af00\">704</span> │ concatenate_1[<span style=\"color: #00af00; text-decoration-color: #00af00\">0</span>]… │\n",
       "├─────────────────────┼───────────────────┼────────────┼───────────────────┤\n",
       "│ dense_5 (<span style=\"color: #0087ff; text-decoration-color: #0087ff\">Dense</span>)     │ (<span style=\"color: #00d7ff; text-decoration-color: #00d7ff\">None</span>, <span style=\"color: #00af00; text-decoration-color: #00af00\">48</span>)        │      <span style=\"color: #00af00; text-decoration-color: #00af00\">3,120</span> │ dense_4[<span style=\"color: #00af00; text-decoration-color: #00af00\">0</span>][<span style=\"color: #00af00; text-decoration-color: #00af00\">0</span>]     │\n",
       "├─────────────────────┼───────────────────┼────────────┼───────────────────┤\n",
       "│ dense_6 (<span style=\"color: #0087ff; text-decoration-color: #0087ff\">Dense</span>)     │ (<span style=\"color: #00d7ff; text-decoration-color: #00d7ff\">None</span>, <span style=\"color: #00af00; text-decoration-color: #00af00\">32</span>)        │      <span style=\"color: #00af00; text-decoration-color: #00af00\">1,568</span> │ dense_5[<span style=\"color: #00af00; text-decoration-color: #00af00\">0</span>][<span style=\"color: #00af00; text-decoration-color: #00af00\">0</span>]     │\n",
       "├─────────────────────┼───────────────────┼────────────┼───────────────────┤\n",
       "│ dense_7 (<span style=\"color: #0087ff; text-decoration-color: #0087ff\">Dense</span>)     │ (<span style=\"color: #00d7ff; text-decoration-color: #00d7ff\">None</span>, <span style=\"color: #00af00; text-decoration-color: #00af00\">1</span>)         │         <span style=\"color: #00af00; text-decoration-color: #00af00\">33</span> │ dense_6[<span style=\"color: #00af00; text-decoration-color: #00af00\">0</span>][<span style=\"color: #00af00; text-decoration-color: #00af00\">0</span>]     │\n",
       "└─────────────────────┴───────────────────┴────────────┴───────────────────┘\n",
       "</pre>\n"
      ],
      "text/plain": [
       "┏━━━━━━━━━━━━━━━━━━━━━┳━━━━━━━━━━━━━━━━━━━┳━━━━━━━━━━━━┳━━━━━━━━━━━━━━━━━━━┓\n",
       "┃\u001b[1m \u001b[0m\u001b[1mLayer (type)       \u001b[0m\u001b[1m \u001b[0m┃\u001b[1m \u001b[0m\u001b[1mOutput Shape     \u001b[0m\u001b[1m \u001b[0m┃\u001b[1m \u001b[0m\u001b[1m   Param #\u001b[0m\u001b[1m \u001b[0m┃\u001b[1m \u001b[0m\u001b[1mConnected to     \u001b[0m\u001b[1m \u001b[0m┃\n",
       "┡━━━━━━━━━━━━━━━━━━━━━╇━━━━━━━━━━━━━━━━━━━╇━━━━━━━━━━━━╇━━━━━━━━━━━━━━━━━━━┩\n",
       "│ title_input         │ (\u001b[38;5;45mNone\u001b[0m, \u001b[38;5;34m1\u001b[0m)         │          \u001b[38;5;34m0\u001b[0m │ -                 │\n",
       "│ (\u001b[38;5;33mInputLayer\u001b[0m)        │                   │            │                   │\n",
       "├─────────────────────┼───────────────────┼────────────┼───────────────────┤\n",
       "│ scores_input        │ (\u001b[38;5;45mNone\u001b[0m, \u001b[38;5;34m6\u001b[0m)         │          \u001b[38;5;34m0\u001b[0m │ -                 │\n",
       "│ (\u001b[38;5;33mInputLayer\u001b[0m)        │                   │            │                   │\n",
       "├─────────────────────┼───────────────────┼────────────┼───────────────────┤\n",
       "│ title_embd          │ (\u001b[38;5;45mNone\u001b[0m, \u001b[38;5;34m1\u001b[0m, \u001b[38;5;34m4\u001b[0m)      │         \u001b[38;5;34m76\u001b[0m │ title_input[\u001b[38;5;34m0\u001b[0m][\u001b[38;5;34m0\u001b[0m] │\n",
       "│ (\u001b[38;5;33mEmbedding\u001b[0m)         │                   │            │                   │\n",
       "├─────────────────────┼───────────────────┼────────────┼───────────────────┤\n",
       "│ score_norm          │ (\u001b[38;5;45mNone\u001b[0m, \u001b[38;5;34m6\u001b[0m)         │         \u001b[38;5;34m12\u001b[0m │ scores_input[\u001b[38;5;34m0\u001b[0m][\u001b[38;5;34m…\u001b[0m │\n",
       "│ (\u001b[38;5;33mLayerNormalizatio…\u001b[0m │                   │            │                   │\n",
       "├─────────────────────┼───────────────────┼────────────┼───────────────────┤\n",
       "│ flatten_1 (\u001b[38;5;33mFlatten\u001b[0m) │ (\u001b[38;5;45mNone\u001b[0m, \u001b[38;5;34m4\u001b[0m)         │          \u001b[38;5;34m0\u001b[0m │ title_embd[\u001b[38;5;34m0\u001b[0m][\u001b[38;5;34m0\u001b[0m]  │\n",
       "├─────────────────────┼───────────────────┼────────────┼───────────────────┤\n",
       "│ concatenate_1       │ (\u001b[38;5;45mNone\u001b[0m, \u001b[38;5;34m10\u001b[0m)        │          \u001b[38;5;34m0\u001b[0m │ score_norm[\u001b[38;5;34m0\u001b[0m][\u001b[38;5;34m0\u001b[0m], │\n",
       "│ (\u001b[38;5;33mConcatenate\u001b[0m)       │                   │            │ flatten_1[\u001b[38;5;34m0\u001b[0m][\u001b[38;5;34m0\u001b[0m]   │\n",
       "├─────────────────────┼───────────────────┼────────────┼───────────────────┤\n",
       "│ dense_4 (\u001b[38;5;33mDense\u001b[0m)     │ (\u001b[38;5;45mNone\u001b[0m, \u001b[38;5;34m64\u001b[0m)        │        \u001b[38;5;34m704\u001b[0m │ concatenate_1[\u001b[38;5;34m0\u001b[0m]… │\n",
       "├─────────────────────┼───────────────────┼────────────┼───────────────────┤\n",
       "│ dense_5 (\u001b[38;5;33mDense\u001b[0m)     │ (\u001b[38;5;45mNone\u001b[0m, \u001b[38;5;34m48\u001b[0m)        │      \u001b[38;5;34m3,120\u001b[0m │ dense_4[\u001b[38;5;34m0\u001b[0m][\u001b[38;5;34m0\u001b[0m]     │\n",
       "├─────────────────────┼───────────────────┼────────────┼───────────────────┤\n",
       "│ dense_6 (\u001b[38;5;33mDense\u001b[0m)     │ (\u001b[38;5;45mNone\u001b[0m, \u001b[38;5;34m32\u001b[0m)        │      \u001b[38;5;34m1,568\u001b[0m │ dense_5[\u001b[38;5;34m0\u001b[0m][\u001b[38;5;34m0\u001b[0m]     │\n",
       "├─────────────────────┼───────────────────┼────────────┼───────────────────┤\n",
       "│ dense_7 (\u001b[38;5;33mDense\u001b[0m)     │ (\u001b[38;5;45mNone\u001b[0m, \u001b[38;5;34m1\u001b[0m)         │         \u001b[38;5;34m33\u001b[0m │ dense_6[\u001b[38;5;34m0\u001b[0m][\u001b[38;5;34m0\u001b[0m]     │\n",
       "└─────────────────────┴───────────────────┴────────────┴───────────────────┘\n"
      ]
     },
     "metadata": {},
     "output_type": "display_data"
    },
    {
     "data": {
      "text/html": [
       "<pre style=\"white-space:pre;overflow-x:auto;line-height:normal;font-family:Menlo,'DejaVu Sans Mono',consolas,'Courier New',monospace\"><span style=\"font-weight: bold\"> Total params: </span><span style=\"color: #00af00; text-decoration-color: #00af00\">5,513</span> (21.54 KB)\n",
       "</pre>\n"
      ],
      "text/plain": [
       "\u001b[1m Total params: \u001b[0m\u001b[38;5;34m5,513\u001b[0m (21.54 KB)\n"
      ]
     },
     "metadata": {},
     "output_type": "display_data"
    },
    {
     "data": {
      "text/html": [
       "<pre style=\"white-space:pre;overflow-x:auto;line-height:normal;font-family:Menlo,'DejaVu Sans Mono',consolas,'Courier New',monospace\"><span style=\"font-weight: bold\"> Trainable params: </span><span style=\"color: #00af00; text-decoration-color: #00af00\">5,513</span> (21.54 KB)\n",
       "</pre>\n"
      ],
      "text/plain": [
       "\u001b[1m Trainable params: \u001b[0m\u001b[38;5;34m5,513\u001b[0m (21.54 KB)\n"
      ]
     },
     "metadata": {},
     "output_type": "display_data"
    },
    {
     "data": {
      "text/html": [
       "<pre style=\"white-space:pre;overflow-x:auto;line-height:normal;font-family:Menlo,'DejaVu Sans Mono',consolas,'Courier New',monospace\"><span style=\"font-weight: bold\"> Non-trainable params: </span><span style=\"color: #00af00; text-decoration-color: #00af00\">0</span> (0.00 B)\n",
       "</pre>\n"
      ],
      "text/plain": [
       "\u001b[1m Non-trainable params: \u001b[0m\u001b[38;5;34m0\u001b[0m (0.00 B)\n"
      ]
     },
     "metadata": {},
     "output_type": "display_data"
    }
   ],
   "source": [
    "ann_model = Model(inputs=[scores_input, title_input], outputs=out_layer)\n",
    "ann_model.compile(optimizer='adam', loss=\"mse\", metrics=[\"mae\"])\n",
    "ann_model.summary()"
   ]
  },
  {
   "cell_type": "code",
   "execution_count": 23,
   "metadata": {},
   "outputs": [
    {
     "name": "stdout",
     "output_type": "stream",
     "text": [
      "Epoch 1/10\n",
      "\u001b[1m22/22\u001b[0m \u001b[32m━━━━━━━━━━━━━━━━━━━━\u001b[0m\u001b[37m\u001b[0m \u001b[1m1s\u001b[0m 5ms/step - loss: 0.4852 - mae: 0.5273 - val_loss: 0.3894 - val_mae: 0.4662\n",
      "Epoch 2/10\n",
      "\u001b[1m22/22\u001b[0m \u001b[32m━━━━━━━━━━━━━━━━━━━━\u001b[0m\u001b[37m\u001b[0m \u001b[1m0s\u001b[0m 2ms/step - loss: 0.4270 - mae: 0.4759 - val_loss: 0.3960 - val_mae: 0.4695\n",
      "Epoch 3/10\n",
      "\u001b[1m22/22\u001b[0m \u001b[32m━━━━━━━━━━━━━━━━━━━━\u001b[0m\u001b[37m\u001b[0m \u001b[1m0s\u001b[0m 2ms/step - loss: 0.4165 - mae: 0.4859 - val_loss: 0.3940 - val_mae: 0.4669\n",
      "Epoch 4/10\n",
      "\u001b[1m22/22\u001b[0m \u001b[32m━━━━━━━━━━━━━━━━━━━━\u001b[0m\u001b[37m\u001b[0m \u001b[1m0s\u001b[0m 2ms/step - loss: 0.3812 - mae: 0.4615 - val_loss: 0.3989 - val_mae: 0.4726\n",
      "Epoch 5/10\n",
      "\u001b[1m22/22\u001b[0m \u001b[32m━━━━━━━━━━━━━━━━━━━━\u001b[0m\u001b[37m\u001b[0m \u001b[1m0s\u001b[0m 2ms/step - loss: 0.4244 - mae: 0.4786 - val_loss: 0.4039 - val_mae: 0.4723\n",
      "Epoch 6/10\n",
      "\u001b[1m22/22\u001b[0m \u001b[32m━━━━━━━━━━━━━━━━━━━━\u001b[0m\u001b[37m\u001b[0m \u001b[1m0s\u001b[0m 2ms/step - loss: 0.3706 - mae: 0.4463 - val_loss: 0.4008 - val_mae: 0.4699\n",
      "Epoch 7/10\n",
      "\u001b[1m22/22\u001b[0m \u001b[32m━━━━━━━━━━━━━━━━━━━━\u001b[0m\u001b[37m\u001b[0m \u001b[1m0s\u001b[0m 2ms/step - loss: 0.3501 - mae: 0.4511 - val_loss: 0.4029 - val_mae: 0.4715\n",
      "Epoch 8/10\n",
      "\u001b[1m22/22\u001b[0m \u001b[32m━━━━━━━━━━━━━━━━━━━━\u001b[0m\u001b[37m\u001b[0m \u001b[1m0s\u001b[0m 2ms/step - loss: 0.3731 - mae: 0.4432 - val_loss: 0.4067 - val_mae: 0.4735\n",
      "Epoch 9/10\n",
      "\u001b[1m22/22\u001b[0m \u001b[32m━━━━━━━━━━━━━━━━━━━━\u001b[0m\u001b[37m\u001b[0m \u001b[1m0s\u001b[0m 2ms/step - loss: 0.3921 - mae: 0.4659 - val_loss: 0.4012 - val_mae: 0.4691\n",
      "Epoch 10/10\n",
      "\u001b[1m22/22\u001b[0m \u001b[32m━━━━━━━━━━━━━━━━━━━━\u001b[0m\u001b[37m\u001b[0m \u001b[1m0s\u001b[0m 2ms/step - loss: 0.4418 - mae: 0.5010 - val_loss: 0.4058 - val_mae: 0.4724\n"
     ]
    }
   ],
   "source": [
    "history = ann_model.fit(\n",
    "    [stars[:700], titles[:700]], outputs[:700],\n",
    "    validation_data = ([stars[700:], titles[700:]], outputs[700:]),\n",
    "    epochs=10,\n",
    "    batch_size=32\n",
    ")"
   ]
  },
  {
   "cell_type": "code",
   "execution_count": 24,
   "metadata": {},
   "outputs": [
    {
     "data": {
      "image/png": "[encoded data removed]",
      "text/plain": [
       "<Figure size 640x480 with 1 Axes>"
      ]
     },
     "metadata": {},
     "output_type": "display_data"
    }
   ],
   "source": [
    "import matplotlib.pyplot as plt\n",
    "\n",
    "# Plot Training and Validation Loss\n",
    "plt.plot(history.history['loss'], label='Training Loss')\n",
    "plt.plot(history.history['val_loss'], label='Validation Loss')\n",
    "plt.xlabel('Epochs')\n",
    "plt.ylabel('Loss')\n",
    "plt.legend()\n",
    "plt.title('Training and Validation Loss')\n",
    "plt.show()"
   ]
  },
  {
   "cell_type": "code",
   "execution_count": 26,
   "metadata": {},
   "outputs": [
    {
     "data": {
      "image/png": "[encoded data removed]",
      "text/plain": [
       "<Figure size 640x480 with 1 Axes>"
      ]
     },
     "metadata": {},
     "output_type": "display_data"
    }
   ],
   "source": [
    "# Plot Training and Validation MAE\n",
    "plt.plot(history.history['mae'], label='Training MAE')\n",
    "plt.plot(history.history['val_mae'], label='Validation MAE')\n",
    "plt.xlabel('Epochs')\n",
    "plt.ylabel('Mean Absolute Error')\n",
    "plt.legend()\n",
    "plt.title('Training and Validation MAE')\n",
    "plt.show()"
   ]
  },
  {
   "cell_type": "code",
   "execution_count": null,
   "metadata": {},
   "outputs": [],
   "source": [
    "# test with synthesis new users:\n",
    "def personal_scores_generation():\n",
    "    prefrence = [sp.random_normal_distribution(0, 5) for _ in range(6)]\n",
    "    personal_scores = dict()\n",
    "    for i in range(18):\n",
    "        score = meta_scores[i] + prefrence[0] * pref_matrix[i][0] + prefrence[1] * pref_matrix[i][1] + prefrence[2] * pref_matrix[i][2] + prefrence[3] * pref_matrix[i][3] + prefrence[4] * pref_matrix[i][4] + prefrence[5] * pref_matrix[i][5]\n",
    "        personal_scores[game_list[i]] = min(round(score), 100)\n",
    "    personal_scores[\"preference\"] = prefrence\n",
    "    return personal_scores\n",
    "\n",
    "def ranking_generation(personal_profile):\n",
    "    temp = personal_profile.copy()\n",
    "    temp.pop(\"preference\")\n",
    "    return sorted(temp, key=temp.get, reverse=True)"
   ]
  }
 ],
 "metadata": {
  "kernelspec": {
   "display_name": "torch",
   "language": "python",
   "name": "python3"
  },
  "language_info": {
   "codemirror_mode": {
    "name": "ipython",
    "version": 3
   },
   "file_extension": ".py",
   "mimetype": "text/x-python",
   "name": "python",
   "nbconvert_exporter": "python",
   "pygments_lexer": "ipython3",
   "version": "3.10.14"
  }
 },
 "nbformat": 4,
 "nbformat_minor": 2
}
