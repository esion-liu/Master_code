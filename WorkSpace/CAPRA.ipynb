{
 "cells": [
  {
   "cell_type": "code",
   "execution_count": 1,
   "metadata": {},
   "outputs": [],
   "source": [
    "# scores from Twitter_roBERTa_base\n",
    "scores = [1.2359077132521614,\n",
    " 1.0639831893536236,\n",
    " 0.5790969931504243,\n",
    " 0.933836857020154,\n",
    " 0.8084895626109274,\n",
    " 0.9506919303435892,\n",
    " 0.856586092919756,\n",
    " 0.9585891311839583,\n",
    " 0.07869711805552534,\n",
    " 0.9115141244472211,\n",
    " 1.0134844072677758,\n",
    " 0.7161042499815978,\n",
    " 0.8572028511592699,\n",
    " 0.770920347881312,\n",
    " 0.07781829046473349,\n",
    " 1.0224898661495998,\n",
    " 0.2533416840444597,\n",
    " 0.8500270194595373]"
   ]
  },
  {
   "cell_type": "code",
   "execution_count": 3,
   "metadata": {},
   "outputs": [],
   "source": [
    "import Aggregation.sampling as sp\n",
    "order = sp.order_generation(scores)"
   ]
  },
  {
   "cell_type": "code",
   "execution_count": 4,
   "metadata": {},
   "outputs": [],
   "source": [
    "game_list = [\n",
    "    \"Disco Elysium\",\n",
    "    \"Lies of P\",\n",
    "    \"Mafia III\",\n",
    "    \"Total War: WARHAMMER III\",\n",
    "    \"Resident Evil 3\",\n",
    "    \"Phasmophobia\",\n",
    "    \"Tom Clancy’s The Division 2\",\n",
    "    \"The Witcher 3: Wild Hunt\",\n",
    "    \"Fallout 76\",\n",
    "    \"Cities: Skylines\",\n",
    "    \"God of War: Ragnarok\",\n",
    "    \"Just Cause 3\",\n",
    "    \"Star Wars Jedi: Survivor\",\n",
    "    \"Resident Evil Village\",\n",
    "    \"Lightning Returns: Final Fantasy XIII\",\n",
    "    \"Elden Ring\",\n",
    "    \"Anno 2205\",\n",
    "    \"Pay Day 2\"\n",
    "]\n",
    "\n",
    "meta_scores = [91,80,68,86,77,76,82,92,52,85,94,74,85,84,66,96,72,79]"
   ]
  },
  {
   "cell_type": "code",
   "execution_count": 5,
   "metadata": {},
   "outputs": [],
   "source": [
    "ground_truth_order = sp.order_generation(meta_scores)"
   ]
  },
  {
   "cell_type": "code",
   "execution_count": 6,
   "metadata": {},
   "outputs": [
    {
     "data": {
      "text/plain": [
       "[0, 1, 15, 10, 7, 5, 3, 9, 12, 6, 17, 4, 13, 11, 2, 16, 8, 14]"
      ]
     },
     "execution_count": 6,
     "metadata": {},
     "output_type": "execute_result"
    }
   ],
   "source": [
    "order"
   ]
  },
  {
   "cell_type": "code",
   "execution_count": 7,
   "metadata": {},
   "outputs": [
    {
     "data": {
      "text/plain": [
       "[15, 10, 7, 0, 3, 9, 9, 13, 6, 1, 17, 4, 5, 11, 16, 2, 14, 8]"
      ]
     },
     "execution_count": 7,
     "metadata": {},
     "output_type": "execute_result"
    }
   ],
   "source": [
    "ground_truth_order"
   ]
  },
  {
   "cell_type": "code",
   "execution_count": null,
   "metadata": {},
   "outputs": [],
   "source": []
  }
 ],
 "metadata": {
  "kernelspec": {
   "display_name": "torch",
   "language": "python",
   "name": "python3"
  },
  "language_info": {
   "codemirror_mode": {
    "name": "ipython",
    "version": 3
   },
   "file_extension": ".py",
   "mimetype": "text/x-python",
   "name": "python",
   "nbconvert_exporter": "python",
   "pygments_lexer": "ipython3",
   "version": "3.10.14"
  }
 },
 "nbformat": 4,
 "nbformat_minor": 2
}
