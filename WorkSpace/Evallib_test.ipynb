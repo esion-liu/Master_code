{
 "cells": [
  {
   "cell_type": "code",
   "execution_count": 1,
   "metadata": {},
   "outputs": [
    {
     "name": "stdout",
     "output_type": "stream",
     "text": [
      "Start evaluation data loading...\n",
      "game information loaded.\n",
      "total game count: 2838\n",
      "user information loaded.\n",
      "total users: 100000\n",
      "user reviews loaded.\n",
      "total reviews count: 2187495\n"
     ]
    }
   ],
   "source": [
    "from Evallib import evalutil"
   ]
  },
  {
   "cell_type": "code",
   "execution_count": 2,
   "metadata": {},
   "outputs": [],
   "source": [
    "gameset = evalutil.get_games()"
   ]
  },
  {
   "cell_type": "code",
   "execution_count": 3,
   "metadata": {},
   "outputs": [],
   "source": [
    "import random\n",
    "random_ranking = list(gameset)\n",
    "random.shuffle(random_ranking)"
   ]
  },
  {
   "cell_type": "code",
   "execution_count": 4,
   "metadata": {},
   "outputs": [
    {
     "data": {
      "text/plain": [
       "['Voxel Tycoon',\n",
       " 'Door Kickers',\n",
       " 'Sign of Silence',\n",
       " 'Assault Android Cactus',\n",
       " 'Rusty Lake Paradise',\n",
       " 'Vampire Survivors',\n",
       " 'ROUNDS',\n",
       " 'Cossacks: Back to War',\n",
       " 'Titanfall 2',\n",
       " 'Ratopia',\n",
       " 'Rogue Heroes: Ruins of Tasos',\n",
       " 'POSTAL Redux',\n",
       " 'Divinity: Original Sin 2  Definitive Edition',\n",
       " 'Scars Above',\n",
       " 'Passpartout: The Starving Artist',\n",
       " 'The Hex',\n",
       " 'Hexcells Infinite',\n",
       " 'Granblue Fantasy Versus: Rising',\n",
       " 'INSIDE',\n",
       " 'Othercide',\n",
       " 'Endoparasitic',\n",
       " 'Conan Unconquered',\n",
       " 'HARVESTELLA',\n",
       " 'We Who Are About To Die',\n",
       " 'A Difficult Game About Climbing',\n",
       " 'Trine 2: Complete Story',\n",
       " 'Judgment: Apocalypse Survival Simulation',\n",
       " 'Weird RPG',\n",
       " '60 Seconds',\n",
       " 'Manor Lords',\n",
       " 'Timespinner',\n",
       " 'JoJos Bizarre Adventure: AllStar Battle R',\n",
       " 'Zero Hour',\n",
       " 'Startup Company',\n",
       " 'Purple Place  Classic Games',\n",
       " 'Ib',\n",
       " 'Salt 2: Shores of Gold',\n",
       " 'Beyond: Two Souls',\n",
       " 'LEGO Batman: The Videogame',\n",
       " 'Cities: Skylines',\n",
       " 'DEATH STRANDING DIRECTORS CUT',\n",
       " 'Watch_Dogs',\n",
       " 'Hobo: Tough Life',\n",
       " 'Aviary Attorney',\n",
       " 'Monster Hunter: World',\n",
       " 'Danganronpa Another Episode: Ultra Despair Girls',\n",
       " 'The Front',\n",
       " 'FlatOut',\n",
       " 'UNCHARTED: Legacy of Thieves Collection',\n",
       " 'Home Sweet Home',\n",
       " 'Elite Dangerous',\n",
       " 'Zombie Army 4: Dead War',\n",
       " 'Syberia 3',\n",
       " 'Spirit City: Lofi Sessions',\n",
       " 'Assassins Creed Syndicate',\n",
       " 'HoloParade',\n",
       " 'FlatOut 2',\n",
       " 'Factorio',\n",
       " 'Stray',\n",
       " 'FATAL FRAME / PROJECT ZERO: Maiden of Black Water',\n",
       " 'The Invincible',\n",
       " 'Project Nimbus: Complete Edition',\n",
       " 'Across the Obelisk',\n",
       " 'Hitman: Codename 47',\n",
       " 'Ten Trials of Babel: The Doppelganger Maze',\n",
       " 'FAR: Changing Tides',\n",
       " 'XPlane 12',\n",
       " 'Commandos: Behind Enemy Lines',\n",
       " 'Turmoil',\n",
       " 'Super Robot Wars 30',\n",
       " 'Milk outside a bag of milk outside a bag of milk',\n",
       " 'Jalopy',\n",
       " 'V: Rings of Saturn',\n",
       " 'FlatOut 4: Total Insanity',\n",
       " 'Monster Prom 2: Monster Camp',\n",
       " 'Kingdoms and Castles',\n",
       " 'Small Saga',\n",
       " 'Black Mesa',\n",
       " 'Peglin',\n",
       " 'APICO',\n",
       " 'Hatred',\n",
       " 'Superfighters Deluxe',\n",
       " 'Terminus: Zombie Survivors',\n",
       " 'The Final Station',\n",
       " 'Killer Frequency',\n",
       " 'Warhammer 40,000: Dawn of War  Soulstorm',\n",
       " 'The Curse of Monkey Island',\n",
       " 'FatalZone',\n",
       " 'ICARUS',\n",
       " 'Touhou Mystias Izakaya',\n",
       " 'Empyrion  Galactic Survival',\n",
       " 'Cat Cafe Manager',\n",
       " 'Kerbal Space Program',\n",
       " 'Battlefield 4',\n",
       " 'Deus Ex: Mankind Divided',\n",
       " 'SpaceChem',\n",
       " 'Spellbook Demonslayers',\n",
       " 'Spelunky',\n",
       " 'Trainz Railroad Simulator 2019',\n",
       " 'Plants vs. Zombies Garden Warfare 2: Deluxe Edition']"
      ]
     },
     "execution_count": 4,
     "metadata": {},
     "output_type": "execute_result"
    }
   ],
   "source": [
    "random_ranking[:100]"
   ]
  },
  {
   "cell_type": "code",
   "execution_count": 5,
   "metadata": {},
   "outputs": [],
   "source": [
    "eval = evalutil.evaluation(random_ranking)"
   ]
  },
  {
   "cell_type": "code",
   "execution_count": 9,
   "metadata": {},
   "outputs": [
    {
     "data": {
      "text/plain": [
       "100000"
      ]
     },
     "execution_count": 9,
     "metadata": {},
     "output_type": "execute_result"
    }
   ],
   "source": [
    "len(eval)"
   ]
  }
 ],
 "metadata": {
  "kernelspec": {
   "display_name": "torch",
   "language": "python",
   "name": "python3"
  },
  "language_info": {
   "codemirror_mode": {
    "name": "ipython",
    "version": 3
   },
   "file_extension": ".py",
   "mimetype": "text/x-python",
   "name": "python",
   "nbconvert_exporter": "python",
   "pygments_lexer": "ipython3",
   "version": "3.10.14"
  }
 },
 "nbformat": 4,
 "nbformat_minor": 2
}
