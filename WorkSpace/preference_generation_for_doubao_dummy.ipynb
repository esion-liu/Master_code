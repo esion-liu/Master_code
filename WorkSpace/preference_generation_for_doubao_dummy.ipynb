{
 "cells": [
  {
   "cell_type": "code",
   "execution_count": null,
   "metadata": {},
   "outputs": [],
   "source": [
    "game_list = [\n",
    "    \"Disco Elysium\",\n",
    "    \"Lies of P\",\n",
    "    \"Mafia III\",\n",
    "    \"Total War: WARHAMMER III\",\n",
    "    \"Resident Evil 3\",\n",
    "    \"Phasmophobia\",\n",
    "    \"Tom Clancy’s The Division 2\",\n",
    "    \"The Witcher 3: Wild Hunt\",\n",
    "    \"Fallout 76\",\n",
    "    \"Cities: Skylines\",\n",
    "    \"God of War: Ragnarok\",\n",
    "    \"Just Cause 3\",\n",
    "    \"Star Wars Jedi: Survivor\",\n",
    "    \"Resident Evil Village\",\n",
    "    \"Lightning Returns: Final Fantasy XIII\",\n",
    "    \"Elden Ring\",\n",
    "    \"Anno 2205\",\n",
    "    \"Pay Day 2\"\n",
    "]\n",
    "\n",
    "meta_scores = [91,80,68,86,77,76,82,92,52,85,94,74,85,84,66,96,72,79]\n",
    "\n",
    "# [RPG/Story, Action, Shooting, Open World, Strategy, Horror]\n",
    "pref_matrix = [\n",
    "    [1,0,0,0,0,0],\n",
    "    [0,1,0,0,0,0],\n",
    "    [0,0,0.5,0.5,0,0],\n",
    "    [0,0,0,0,1,0],\n",
    "    [0,0,0,0,0,1],\n",
    "    [0,0,0,0,0,1],\n",
    "    [0,0,0.5,0.5,0,0],\n",
    "    [0,0.5,0,0.5,0,0],\n",
    "    [0,0,0.5,0.5,0,0],\n",
    "    [0,0,0,0,1,0],\n",
    "    [0.5,0.5,0,0,0,0],\n",
    "    [0,0,0,1,0,0],\n",
    "    [0,1,0,0,0,0],\n",
    "    [0,0,0,0,0,1],\n",
    "    [0.5,0.5,0,0,0,0],\n",
    "    [0,0.5,0,0.5,0,0],\n",
    "    [0,0,0,0,1,0],\n",
    "    [0,0,1,0,0,0]\n",
    "]"
   ]
  },
  {
   "cell_type": "code",
   "execution_count": 2,
   "metadata": {},
   "outputs": [
    {
     "name": "stdout",
     "output_type": "stream",
     "text": [
      "game list loaded\n"
     ]
    }
   ],
   "source": [
    "import Aggregation.sampling as sp"
   ]
  },
  {
   "cell_type": "code",
   "execution_count": null,
   "metadata": {},
   "outputs": [],
   "source": [
    "def personal_scores_generation():\n",
    "    prefrence = [sp.random_normal_distribution(0, 5) for _ in range(6)]\n",
    "    personal_scores = dict()\n",
    "    for i in range(18):\n",
    "        score = meta_scores[i] + prefrence[0] * pref_matrix[i][0] + prefrence[1] * pref_matrix[i][1] + prefrence[2] * pref_matrix[i][2] + prefrence[3] * pref_matrix[i][3] + prefrence[4] * pref_matrix[i][4] + prefrence[5] * pref_matrix[i][5]\n",
    "        personal_scores[game_list[i]] = min(round(score), 100)\n",
    "    personal_scores[\"preference\"] = prefrence\n",
    "    return personal_scores"
   ]
  },
  {
   "cell_type": "code",
   "execution_count": 10,
   "metadata": {},
   "outputs": [],
   "source": [
    "def ground_truth_order():\n",
    "    prefrence = [0 for _ in range(6)]\n",
    "    personal_scores = dict()\n",
    "    for i in range(18):\n",
    "        score = meta_scores[i] + prefrence[0] * pref_matrix[i][0] + prefrence[1] * pref_matrix[i][1] + prefrence[2] * pref_matrix[i][2] + prefrence[3] * pref_matrix[i][3] + prefrence[4] * pref_matrix[i][4] + prefrence[5] * pref_matrix[i][5]\n",
    "        personal_scores[game_list[i]] = min(round(score), 100)\n",
    "    return sorted(personal_scores, key=personal_scores.get, reverse=True)"
   ]
  },
  {
   "cell_type": "code",
   "execution_count": 4,
   "metadata": {},
   "outputs": [],
   "source": [
    "def ranking_generation(personal_profile):\n",
    "    temp = personal_profile.copy()\n",
    "    temp.pop(\"preference\")\n",
    "    return sorted(temp, key=temp.get, reverse=True)"
   ]
  },
  {
   "cell_type": "code",
   "execution_count": null,
   "metadata": {},
   "outputs": [],
   "source": [
    "p = personal_scores_generation()"
   ]
  },
  {
   "cell_type": "code",
   "execution_count": 11,
   "metadata": {},
   "outputs": [
    {
     "data": {
      "text/plain": [
       "['Elden Ring',\n",
       " 'God of War: Ragnarok',\n",
       " 'The Witcher 3: Wild Hunt',\n",
       " 'Disco Elysium',\n",
       " 'Total War: WARHAMMER III',\n",
       " 'Cities: Skylines',\n",
       " 'Star Wars Jedi: Survivor',\n",
       " 'Resident Evil Village',\n",
       " 'Tom Clancy’s The Division 2',\n",
       " 'Lies of P',\n",
       " 'Resident Evil 3',\n",
       " 'Pay Day 2',\n",
       " 'Phasmophobia',\n",
       " 'Just Cause 3',\n",
       " 'Anno 2205',\n",
       " 'Mafia III',\n",
       " 'Lightning Returns: Final Fantasy XIII',\n",
       " 'Fallout 76']"
      ]
     },
     "execution_count": 11,
     "metadata": {},
     "output_type": "execute_result"
    }
   ],
   "source": [
    "ground_truth_order()"
   ]
  },
  {
   "cell_type": "code",
   "execution_count": 7,
   "metadata": {},
   "outputs": [
    {
     "data": {
      "text/plain": [
       "['Elden Ring',\n",
       " 'The Witcher 3: Wild Hunt',\n",
       " 'God of War: Ragnarok',\n",
       " 'Disco Elysium',\n",
       " 'Star Wars Jedi: Survivor',\n",
       " 'Tom Clancy’s The Division 2',\n",
       " 'Pay Day 2',\n",
       " 'Lies of P',\n",
       " 'Total War: WARHAMMER III',\n",
       " 'Cities: Skylines',\n",
       " 'Resident Evil Village',\n",
       " 'Just Cause 3',\n",
       " 'Resident Evil 3',\n",
       " 'Phasmophobia',\n",
       " 'Mafia III',\n",
       " 'Anno 2205',\n",
       " 'Lightning Returns: Final Fantasy XIII',\n",
       " 'Fallout 76']"
      ]
     },
     "execution_count": 7,
     "metadata": {},
     "output_type": "execute_result"
    }
   ],
   "source": [
    "ranking_generation(p)"
   ]
  },
  {
   "cell_type": "code",
   "execution_count": null,
   "metadata": {},
   "outputs": [],
   "source": []
  }
 ],
 "metadata": {
  "kernelspec": {
   "display_name": "torch",
   "language": "python",
   "name": "python3"
  },
  "language_info": {
   "codemirror_mode": {
    "name": "ipython",
    "version": 3
   },
   "file_extension": ".py",
   "mimetype": "text/x-python",
   "name": "python",
   "nbconvert_exporter": "python",
   "pygments_lexer": "ipython3",
   "version": "3.10.14"
  }
 },
 "nbformat": 4,
 "nbformat_minor": 2
}
