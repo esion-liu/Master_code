{
 "cells": [
  {
   "cell_type": "code",
   "execution_count": 1,
   "metadata": {},
   "outputs": [],
   "source": [
    "import psycopg2\n",
    "import pickle"
   ]
  },
  {
   "cell_type": "code",
   "execution_count": 2,
   "metadata": {},
   "outputs": [
    {
     "name": "stdout",
     "output_type": "stream",
     "text": [
      "user information loaded.\n"
     ]
    }
   ],
   "source": [
    "with open('data/user_list.pickle', 'rb') as f:\n",
    "    user_list = pickle.load(f)\n",
    "# number of user: 147402, train dataset index 0 - 9999 (10,000), evaluation dataset index 20000 - 119999 (100,000)\n",
    "eval_user_list = user_list[20000:120000].copy()\n",
    "eval_user_list.sort()\n",
    "print(\"user information loaded.\")"
   ]
  },
  {
   "cell_type": "code",
   "execution_count": 3,
   "metadata": {},
   "outputs": [
    {
     "data": {
      "text/plain": [
       "['https://steamcommunity.com/id/----_-_-__-___---/',\n",
       " 'https://steamcommunity.com/id/--Ulrich--/',\n",
       " 'https://steamcommunity.com/id/--aldwin--/',\n",
       " 'https://steamcommunity.com/id/--ranXerox--/',\n",
       " 'https://steamcommunity.com/id/-16a/']"
      ]
     },
     "execution_count": 3,
     "metadata": {},
     "output_type": "execute_result"
    }
   ],
   "source": [
    "eval_user_list[:5]"
   ]
  },
  {
   "cell_type": "code",
   "execution_count": 4,
   "metadata": {},
   "outputs": [],
   "source": [
    "postgres_conn_param = {\n",
    "    'host': 'localhost',\n",
    "    'port': '5432',\n",
    "    'user': 'postgres',\n",
    "    'password': 'Lyc199412',\n",
    "    'database': 'steam'}\n",
    "conn = psycopg2.connect(**postgres_conn_param)\n",
    "cur = conn.cursor()\n",
    "SQL = \"\"\"\n",
    "SELECT reviewer_name, game_name, recommended, time_played\n",
    "FROM game_reviews\n",
    "WHERE reviewer_name = ANY(%s)\n",
    "ORDER BY reviewer_name ASC\n",
    "\"\"\"\n",
    "cur.execute(SQL, (eval_user_list,))\n",
    "reviews = cur.fetchall()\n"
   ]
  },
  {
   "cell_type": "code",
   "execution_count": 12,
   "metadata": {},
   "outputs": [
    {
     "data": {
      "text/plain": [
       "[('https://steamcommunity.com/id/Boy_314/', 'Melatonin', True, Decimal('4.1')),\n",
       " ('https://steamcommunity.com/id/Boy_314/',\n",
       "  'Dorfromantik',\n",
       "  True,\n",
       "  Decimal('113.1')),\n",
       " ('https://steamcommunity.com/id/Boy_314/',\n",
       "  'Tabletop Simulator',\n",
       "  True,\n",
       "  Decimal('381.1')),\n",
       " ('https://steamcommunity.com/id/Boy_314/',\n",
       "  'Patricks Parabox',\n",
       "  True,\n",
       "  Decimal('12.9')),\n",
       " ('https://steamcommunity.com/id/Boy_314/',\n",
       "  'Spelunky 2',\n",
       "  False,\n",
       "  Decimal('23.2'))]"
      ]
     },
     "execution_count": 12,
     "metadata": {},
     "output_type": "execute_result"
    }
   ],
   "source": [
    "reviews[90000:90005]"
   ]
  },
  {
   "cell_type": "code",
   "execution_count": 6,
   "metadata": {},
   "outputs": [
    {
     "data": {
      "text/plain": [
       "2187495"
      ]
     },
     "execution_count": 6,
     "metadata": {},
     "output_type": "execute_result"
    }
   ],
   "source": [
    "len(reviews)"
   ]
  },
  {
   "cell_type": "code",
   "execution_count": 10,
   "metadata": {},
   "outputs": [],
   "source": [
    "eval_reviews = dict()\n",
    "\n",
    "for u in eval_user_list:\n",
    "    eval_reviews[u] = []\n",
    "\n",
    "for reviewer_name, game_name, recommended, play_time in reviews:\n",
    "    eval_reviews[reviewer_name].append((game_name, recommended, float(play_time)))\n",
    "    "
   ]
  },
  {
   "cell_type": "code",
   "execution_count": 18,
   "metadata": {},
   "outputs": [],
   "source": [
    "with open('data/eval_reviews.pickle', 'wb') as f:\n",
    "    pickle.dump(eval_reviews, f)"
   ]
  }
 ],
 "metadata": {
  "kernelspec": {
   "display_name": "torch",
   "language": "python",
   "name": "python3"
  },
  "language_info": {
   "codemirror_mode": {
    "name": "ipython",
    "version": 3
   },
   "file_extension": ".py",
   "mimetype": "text/x-python",
   "name": "python",
   "nbconvert_exporter": "python",
   "pygments_lexer": "ipython3",
   "version": "3.10.14"
  }
 },
 "nbformat": 4,
 "nbformat_minor": 2
}
