{
 "cells": [
  {
   "cell_type": "code",
   "execution_count": null,
   "metadata": {},
   "outputs": [],
   "source": [
    "# import libs\n",
    "import torch\n",
    "import torch.nn as nn\n",
    "from torch.utils.data import Dataset, DataLoader\n",
    "from torch.optim import AdamW\n",
    "\n",
    "from transformers import BertModel, BertTokenizer\n",
    "\n",
    "import pandas as pd"
   ]
  },
  {
   "cell_type": "code",
   "execution_count": null,
   "metadata": {},
   "outputs": [],
   "source": [
    "# load basic bert model and tokenlizers from local\n",
    "bert_model = BertModel.from_pretrained('OriginalModels/bert_large_cased')\n",
    "bert_tokenlizer = BertTokenizer.from_pretrained('OriginalModels/bert_large_cased_tokenlizer')"
   ]
  },
  {
   "cell_type": "code",
   "execution_count": null,
   "metadata": {},
   "outputs": [],
   "source": [
    "# create customer model\n",
    "class BERTandRegressionModel(nn.Module):\n",
    "    def __init__(self, base_model):\n",
    "        super(BERTandRegressionModel, self).__init__()\n",
    "        self.bert = base_model\n",
    "        # the pooler output of bert_large_cased is 1024\n",
    "        self.fc1 = nn.Linear(1024, 768)\n",
    "        self.bn1 = nn.BatchNorm1d(768)\n",
    "        self.relu1 = nn.LeakyReLU()\n",
    "\n",
    "        self.fc2 = nn.Linear(768, 512)\n",
    "        self.bn2 = nn.BatchNorm1d(512)\n",
    "        self.relu2 = nn.LeakyReLU()\n",
    "\n",
    "        self.fc3 = nn.Linear(512, 128)\n",
    "        self.bn3 = nn.BatchNorm1d(128)\n",
    "        self.relu3 = nn.LeakyReLU()\n",
    "\n",
    "        self.fc4 = nn.Linear(128, 1)\n",
    "\n",
    "    def forward(self, input_ids, attention_mask=None, token_type_ids=None):\n",
    "        bert_output = self.bert(input_ids, attention_mask=attention_mask, token_type_ids=token_type_ids)\n",
    "        y = bert_output.pooler_output\n",
    "        y = self.fc1(y)\n",
    "        y = self.bn1(y)\n",
    "        y = self.relu1(y)\n",
    "        \n",
    "        y = self.fc2(y)\n",
    "        y = self.bn2(y)\n",
    "        y = self.relu2(y)\n",
    "\n",
    "        y = self.fc3(y)\n",
    "        y = self.bn3(y)\n",
    "        y = self.relu3(y)\n",
    "\n",
    "        y = self.fc4(y)\n",
    "        return y"
   ]
  },
  {
   "cell_type": "code",
   "execution_count": null,
   "metadata": {},
   "outputs": [],
   "source": [
    "# create dataset and dataloader\n",
    "class Review_Score_Dataset(Dataset):\n",
    "\n",
    "    def __init__(self, texts, scores, tokenlizer, max_length=512):\n",
    "        super().__init__()\n",
    "        self.tokenlizer = tokenlizer\n",
    "        self.texts = texts\n",
    "        self.scores = scores\n",
    "        self.max_length = max_length\n",
    "\n",
    "    def __len__(self):\n",
    "        return len(self.texts)\n",
    "    \n",
    "    def __getitem__(self, index):\n",
    "        text = self.texts[index]\n",
    "        score = self.scores[index]\n",
    "        inputs = self.tokenlizer(text, max_length=self.max_length, padding='max_length', truncation=True, return_tensors='pt')\n",
    "        input_ids = inputs['input_ids'].squeeze()\n",
    "        attention_mask = inputs['attention_mask'].squeeze()\n",
    "        token_type_ids = inputs['token_type_ids'].squeeze()\n",
    "        return{\n",
    "            'input_ids': input_ids,\n",
    "            'attention_mask': attention_mask,\n",
    "            'token_type_ids': token_type_ids, \n",
    "            'score': torch.tensor(score, dtype=torch.float)\n",
    "        }"
   ]
  },
  {
   "cell_type": "code",
   "execution_count": null,
   "metadata": {},
   "outputs": [],
   "source": [
    "dfc = pd.read_csv('Dataset/All_critic.csv')\n",
    "dfu = pd.read_csv('Dataset/All_user.csv')\n",
    "dfu['score'] = dfu['score'] * 10\n",
    "df = pd.concat([dfc, dfu], ignore_index=True)\n",
    "train_dataset = Review_Score_Dataset(\n",
    "    texts=df['review'].tolist(),\n",
    "    scores=df['score'].tolist(),\n",
    "    tokenlizer=bert_tokenlizer\n",
    ")"
   ]
  },
  {
   "cell_type": "code",
   "execution_count": null,
   "metadata": {},
   "outputs": [],
   "source": [
    "bertregmodel = BERTandRegressionModel(bert_model)"
   ]
  },
  {
   "cell_type": "code",
   "execution_count": null,
   "metadata": {},
   "outputs": [],
   "source": [
    "bert_params = list(bertregmodel.bert.parameters())\n",
    "regression_params = list(bertregmodel.fc1.parameters()) + list(bertregmodel.fc2.parameters()) + list(bertregmodel.fc3.parameters()) + list(bertregmodel.fc4.parameters())\n",
    "param_groups = [\n",
    "    {'params': bert_params, 'lr': 0.0001},  # Smaller learning rate for BERT\n",
    "    {'params': regression_params, 'lr': 0.0005}  # Higher learning rate for regression layers\n",
    "]\n",
    "\n",
    "optimizer = AdamW(param_groups)\n",
    "\n",
    "\n",
    "device = torch.device('cuda' if torch.cuda.is_available() else 'cpu')\n",
    "bertregmodel = bertregmodel.to(device)\n",
    "loss_fn = torch.nn.MSELoss()"
   ]
  },
  {
   "cell_type": "code",
   "execution_count": null,
   "metadata": {},
   "outputs": [],
   "source": [
    "dataloader = DataLoader(train_dataset, batch_size=16, shuffle=True)"
   ]
  },
  {
   "cell_type": "code",
   "execution_count": null,
   "metadata": {},
   "outputs": [],
   "source": [
    "epoch_num = 20\n",
    "train_losses = []\n",
    "valid_losses = []\n",
    "\n",
    "for epoch in range(epoch_num):\n",
    "\n",
    "    bertregmodel.train()\n",
    "    total_train_loss = 0.0\n",
    "    max_step = 50\n",
    "    \n",
    "    for batch in dataloader:\n",
    "        optimizer.zero_grad()\n",
    "\n",
    "        input_ids = batch['input_ids'].to(device)\n",
    "        attention_masks = batch['attention_mask'].to(device)\n",
    "        scores = batch['score'].to(device)\n",
    "\n",
    "        outputs = bertregmodel(input_ids, attention_mask=attention_masks)\n",
    "        loss = loss_fn(outputs.squeeze(), scores.squeeze())\n",
    "\n",
    "        loss.backward()\n",
    "        optimizer.step()\n",
    "        total_train_loss += loss.item()\n",
    "        max_step -= 1\n",
    "        if max_step <= 0:\n",
    "            break\n",
    "    \n",
    "    avg_train_loss = total_train_loss / 50.0\n",
    "    train_losses.append(avg_train_loss)\n",
    "    '''\n",
    "    bertregmodel.eval()\n",
    "    total_val_loss = 0\n",
    "\n",
    "    with torch.no_grad():\n",
    "        max_step = 50\n",
    "        for batch in dataloader:\n",
    "            input_ids = batch['input_ids'].to(device)\n",
    "            attention_masks = batch['attention_mask'].to(device)\n",
    "            scores = batch['score'].to(device)\n",
    "\n",
    "            outputs = bertregmodel(input_ids, attention_mask=attention_masks)\n",
    "            loss = loss_fn(outputs.squeeze(), scores.squeeze())\n",
    "\n",
    "            total_val_loss += loss.item()\n",
    "            max_step -= 1\n",
    "            if max_step <=0:\n",
    "                break\n",
    "    avg_val_loss = total_val_loss / 50.0\n",
    "    valid_losses.append(avg_val_loss)\n",
    "    print(f'Epoch {epoch+1}/{epoch_num} | Train Loss: {avg_train_loss:.3f} | Val Loss: {avg_val_loss:.3f}')\n",
    "    '''\n",
    "    print(f'Epoch {epoch+1}/{epoch_num} | Train Loss: {avg_train_loss:.3f}')"
   ]
  },
  {
   "cell_type": "code",
   "execution_count": null,
   "metadata": {},
   "outputs": [],
   "source": [
    "torch.save(bertregmodel, 'FineTunedModels/bertv1')"
   ]
  }
 ],
 "metadata": {
  "kernelspec": {
   "display_name": "transformer",
   "language": "python",
   "name": "python3"
  },
  "language_info": {
   "codemirror_mode": {
    "name": "ipython",
    "version": 3
   },
   "file_extension": ".py",
   "mimetype": "text/x-python",
   "name": "python",
   "nbconvert_exporter": "python",
   "pygments_lexer": "ipython3",
   "version": "3.10.13"
  }
 },
 "nbformat": 4,
 "nbformat_minor": 2
}
