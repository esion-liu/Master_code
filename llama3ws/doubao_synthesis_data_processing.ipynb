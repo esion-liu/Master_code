{
 "cells": [
  {
   "cell_type": "code",
   "execution_count": 2,
   "id": "6b005c61-9285-429e-a91d-0afc05c351bd",
   "metadata": {},
   "outputs": [
    {
     "name": "stdout",
     "output_type": "stream",
     "text": [
      "🦥 Unsloth: Will patch your computer to enable 2x faster free finetuning.\n",
      "==((====))==  Unsloth: Fast Llama patching release 2024.7\n",
      "   \\\\   /|    GPU: NVIDIA GeForce RTX 4090. Max memory: 23.988 GB. Platform = Linux.\n",
      "O^O/ \\_/ \\    Pytorch: 2.3.0+cu121. CUDA = 8.9. CUDA Toolkit = 12.1.\n",
      "\\        /    Bfloat16 = TRUE. FA [Xformers = 0.0.26.post1. FA2 = False]\n",
      " \"-____-\"     Free Apache license: http://github.com/unslothai/unsloth\n"
     ]
    },
    {
     "name": "stderr",
     "output_type": "stream",
     "text": [
      "Unsloth 2024.7 patched 32 layers with 32 QKV layers, 32 O layers and 32 MLP layers.\n"
     ]
    }
   ],
   "source": [
    "# load language model\n",
    "from unsloth import FastLanguageModel\n",
    "model, tokenizer = FastLanguageModel.from_pretrained(\n",
    "    model_name = \"ll3_fitting/epoch_329\",\n",
    "    max_seq_length = 4096,\n",
    "    dtype = None,\n",
    "    load_in_4bit = True\n",
    ")\n",
    "\n",
    "FastLanguageModel.for_inference(model)"
   ]
  },
  {
   "cell_type": "code",
   "execution_count": 142,
   "id": "0158bbab-bc95-4d51-a8f2-d5b794adb331",
   "metadata": {},
   "outputs": [],
   "source": [
    "tokenizer.pad_token = '<|reserved_special_token_250|>'\n",
    "tokenizer.pad_token_id = 128255\n",
    "def prompt_generation(inputs):\n",
    "    outputs = []\n",
    "    for i in range(len(inputs)):\n",
    "        temp = []\n",
    "        temp.append({'role': 'system', 'content': \"You are a personal judge of video game, your role is to judge which game is preferred by the user based on user's feedbacks of two games. Simply reply with the prefered game's full name, no need for explanation\"})\n",
    "        temp.append({\n",
    "            'role': 'user',\n",
    "            'content': f\"I played two games {inputs[i][0]}, and {inputs[i][2]}. After playing, I gave reviews for both games as follow:\\n{inputs[i][0]}: {inputs[i][1]}\\n{inputs[i][2]}: {inputs[i][3]}\"\n",
    "        })\n",
    "        outputs.append(temp)\n",
    "    return outputs"
   ]
  },
  {
   "cell_type": "code",
   "execution_count": 143,
   "id": "ecbae987-52d1-4195-9f43-82370dbd296b",
   "metadata": {},
   "outputs": [],
   "source": [
    "game_list = [\"Disco Elysium\", \"Lies of P\", \"Mafia III\", \"Total War: Warhammer III\", \"Resident Evil 3\", \"Phasmophobia\", \"Tom Clancy’s The Division 2\", \"The Witcher 3: Wild Hunt\", \"Fallout 76\", \"Cities: Skylines\", \"God of War: Ragnarok\", \"Just Cause 3\", \"Star Wars Jedi: Survivor\", \"Resident Evil Village\", \"Lightning Returns: Final Fantasy XIII\", \"Elden Ring\", \"Anno 2205\", \"Pay Day 2\"]\n"
   ]
  },
  {
   "cell_type": "code",
   "execution_count": 90,
   "id": "025bbed0-ac32-4a35-aad9-a8ca5e365179",
   "metadata": {},
   "outputs": [],
   "source": [
    "# load a user's reviews\n",
    "scores = []\n",
    "texts = []\n",
    "with open(\"data/synthesis_reviews/user_0.txt\") as f:\n",
    "    for line in f:\n",
    "        line = line.strip()\n",
    "        elements = line.split(\"):\")\n",
    "        scores.append(int(elements[0].split(\"(\")[1].split(\"/\")[0]))\n",
    "        texts.append(elements[1].rstrip(\"\\n\"))\n",
    "inputs = []\n",
    "for i in range(len(game_list)-1):\n",
    "    for j in range(i+1, len(game_list)):\n",
    "        inputs.append((game_list[i], texts[i], game_list[j], texts[j]))\n",
    "prompts = prompt_generation(inputs)"
   ]
  },
  {
   "cell_type": "code",
   "execution_count": 91,
   "id": "eb566110-7218-415a-bb13-48f870c6859d",
   "metadata": {},
   "outputs": [],
   "source": [
    "# Batch processing\n",
    "prefered_games = []\n",
    "for i in range(0, len(prompts), 32):\n",
    "    msgs = prompts[i:i+32]\n",
    "    inputs = tokenizer.apply_chat_template(\n",
    "        msgs,\n",
    "        tokenize = True,\n",
    "        padding = True,\n",
    "        truncation = False,\n",
    "        add_generation_prompt = True, # Must add for generation\n",
    "        return_tensors = \"pt\",\n",
    "    )\n",
    "    attention_mask = (inputs != tokenizer.pad_token_id).int()\n",
    "    outputs = model.generate(input_ids = inputs, max_new_tokens = 1024, attention_mask = attention_mask, use_cache = True)\n",
    "    gen_idx = len(inputs[0])\n",
    "    result = tokenizer.batch_decode(outputs[:, gen_idx:], skip_special_tokens = True)\n",
    "\n",
    "    for k in range(len(result)):\n",
    "        prefered_game = result[k]\n",
    "\n",
    "        prefered_games.append(prefered_game)\n",
    "    "
   ]
  },
  {
   "cell_type": "code",
   "execution_count": 93,
   "id": "e090ef77-fcaa-4a3a-bb2c-a1337ad7917e",
   "metadata": {},
   "outputs": [
    {
     "name": "stdout",
     "output_type": "stream",
     "text": [
      "{'Disco Elysium': 17, 'Lies of P': 5, 'Total War: WARHAMMER III': 13, 'Phasmophobia': 9, 'Tom Clancy’s The Division 2': 9, 'The Witcher 3: Wild Hunt': 16, 'Cities: Skylines': 11, 'God of War: Ragnarok': 15, 'Just Cause 3': 8, 'Star Wars Jedi: Survivor': 5, 'Resident Evil Village': 10, 'Elden Ring': 14, 'Pay Day 2': 6, 'Resident Evil 3': 9, 'Mafia III': 2, 'Anno 2205': 3, 'Lightning Returns: Final Fantasy XIII': 1}\n"
     ]
    }
   ],
   "source": [
    "from collections import Counter\n",
    "\n",
    "counts = Counter(prefered_games)\n",
    "ranking = counts.most_common()\n",
    "print(dict(counts))"
   ]
  },
  {
   "cell_type": "code",
   "execution_count": 140,
   "id": "217b6c0d-0a17-48ac-9e6c-c824031f8999",
   "metadata": {},
   "outputs": [
    {
     "data": {
      "text/plain": [
       "[[96, 70, 65, 85, 77, 76, 79, 87, 49, 84, 92, 73, 75, 84, 64, 91, 71, 74],\n",
       " [99, 76, 68, 83, 73, 72, 82, 89, 52, 82, 96, 72, 81, 80, 68, 93, 69, 81],\n",
       " [82, 87, 69, 85, 71, 70, 83, 96, 53, 84, 93, 74, 92, 78, 65, 100, 71, 81],\n",
       " [98, 77, 65, 87, 72, 71, 79, 90, 49, 86, 96, 74, 82, 79, 68, 94, 73, 74],\n",
       " [84, 77, 68, 88, 79, 78, 82, 90, 52, 87, 89, 72, 82, 86, 61, 94, 74, 81],\n",
       " [88, 84, 70, 90, 75, 74, 84, 96, 54, 89, 94, 79, 89, 82, 66, 100, 76, 79],\n",
       " [86, 79, 68, 78, 73, 72, 82, 89, 52, 77, 91, 68, 84, 80, 63, 93, 64, 84],\n",
       " [88, 89, 70, 82, 81, 80, 84, 98, 54, 81, 97, 76, 94, 88, 69, 100, 68, 80],\n",
       " [94, 80, 65, 83, 70, 69, 79, 90, 49, 82, 95, 69, 85, 77, 67, 94, 69, 78],\n",
       " [99, 80, 63, 89, 82, 81, 77, 90, 47, 88, 98, 71, 85, 89, 70, 94, 75, 71],\n",
       " [94, 73, 65, 93, 80, 79, 79, 89, 49, 92, 92, 75, 78, 87, 64, 93, 79, 72],\n",
       " [85, 77, 73, 93, 84, 83, 87, 97, 57, 92, 90, 87, 82, 91, 62, 100, 79, 76],\n",
       " [87, 70, 71, 86, 74, 73, 85, 87, 55, 85, 87, 74, 75, 81, 59, 91, 72, 84],\n",
       " [92, 84, 64, 88, 82, 81, 78, 91, 48, 87, 96, 68, 89, 89, 68, 95, 74, 78],\n",
       " [87, 84, 65, 89, 72, 71, 79, 90, 49, 88, 94, 67, 89, 79, 66, 94, 75, 80],\n",
       " [98, 84, 66, 77, 77, 76, 80, 92, 50, 76, 99, 70, 89, 84, 71, 96, 63, 80],\n",
       " [98, 77, 67, 85, 81, 80, 81, 89, 51, 84, 96, 72, 82, 88, 68, 93, 71, 80],\n",
       " [99, 78, 65, 84, 76, 75, 79, 91, 49, 83, 97, 73, 83, 83, 69, 95, 70, 74],\n",
       " [88, 78, 60, 91, 71, 70, 74, 86, 44, 90, 91, 65, 83, 78, 63, 90, 77, 72],\n",
       " [83, 76, 70, 88, 79, 78, 84, 90, 54, 87, 88, 74, 81, 86, 60, 94, 74, 82],\n",
       " [91, 85, 70, 94, 74, 73, 84, 96, 54, 93, 96, 76, 90, 81, 68, 100, 80, 80],\n",
       " [87, 85, 74, 92, 83, 82, 88, 98, 58, 91, 95, 82, 90, 90, 67, 100, 78, 83],\n",
       " [88, 83, 67, 79, 80, 79, 81, 97, 51, 78, 94, 80, 88, 87, 66, 100, 65, 71],\n",
       " [78, 86, 66, 90, 85, 84, 80, 94, 50, 89, 91, 73, 91, 92, 63, 98, 76, 76],\n",
       " [98, 82, 68, 85, 78, 77, 82, 92, 52, 84, 98, 73, 87, 85, 70, 96, 71, 79],\n",
       " [95, 80, 71, 84, 76, 75, 85, 88, 55, 83, 96, 66, 85, 83, 68, 92, 70, 93],\n",
       " [91, 73, 77, 94, 77, 76, 91, 93, 61, 93, 90, 84, 78, 84, 62, 97, 80, 86],\n",
       " [92, 80, 69, 83, 76, 75, 83, 88, 53, 82, 95, 66, 85, 83, 67, 92, 69, 89],\n",
       " [88, 80, 67, 89, 76, 75, 81, 95, 51, 88, 93, 79, 85, 83, 65, 99, 75, 71],\n",
       " [88, 82, 66, 86, 76, 75, 80, 95, 50, 85, 94, 77, 87, 83, 66, 99, 72, 72],\n",
       " [93, 85, 70, 81, 83, 82, 84, 95, 54, 80, 97, 76, 90, 90, 69, 99, 67, 81],\n",
       " [88, 81, 68, 89, 79, 78, 82, 93, 52, 88, 93, 75, 86, 86, 65, 97, 75, 79],\n",
       " [89, 77, 68, 96, 74, 73, 82, 90, 52, 95, 92, 72, 82, 81, 64, 94, 82, 80],\n",
       " [97, 83, 69, 90, 75, 74, 83, 94, 53, 89, 98, 75, 88, 82, 70, 98, 76, 80],\n",
       " [91, 79, 72, 88, 81, 80, 86, 95, 56, 87, 94, 80, 84, 88, 66, 99, 74, 81],\n",
       " [91, 80, 62, 91, 75, 74, 76, 86, 46, 90, 94, 62, 85, 82, 66, 90, 77, 80],\n",
       " [86, 75, 69, 85, 82, 81, 83, 94, 53, 84, 89, 82, 80, 89, 61, 98, 71, 72],\n",
       " [97, 78, 70, 81, 75, 74, 84, 95, 54, 80, 96, 82, 83, 82, 68, 99, 67, 75],\n",
       " [91, 78, 65, 86, 80, 79, 79, 89, 49, 85, 93, 70, 83, 87, 65, 93, 72, 77],\n",
       " [90, 82, 66, 91, 73, 72, 80, 91, 50, 90, 95, 69, 87, 80, 67, 95, 77, 80],\n",
       " [92, 79, 72, 83, 72, 71, 86, 92, 56, 82, 94, 75, 84, 79, 66, 96, 69, 86],\n",
       " [92, 77, 66, 90, 75, 74, 80, 91, 50, 89, 93, 74, 82, 82, 65, 95, 76, 74],\n",
       " [99, 80, 71, 83, 76, 75, 85, 93, 55, 82, 98, 76, 85, 83, 70, 97, 69, 83],\n",
       " [96, 81, 68, 90, 82, 81, 82, 94, 52, 89, 97, 78, 86, 89, 69, 98, 76, 74],\n",
       " [93, 80, 69, 84, 71, 70, 83, 90, 53, 83, 95, 70, 85, 78, 67, 94, 70, 85],\n",
       " [98, 74, 62, 95, 68, 67, 76, 82, 46, 94, 95, 60, 79, 75, 67, 86, 81, 81],\n",
       " [92, 90, 69, 87, 71, 70, 83, 96, 53, 86, 99, 72, 95, 78, 71, 100, 73, 82],\n",
       " [91, 79, 68, 86, 78, 77, 82, 91, 52, 85, 94, 72, 84, 85, 66, 95, 72, 81],\n",
       " [98, 81, 66, 88, 84, 83, 80, 91, 50, 87, 98, 72, 86, 91, 70, 95, 74, 76],\n",
       " [91, 83, 65, 94, 78, 77, 79, 92, 49, 93, 96, 72, 88, 85, 68, 96, 80, 75]]"
      ]
     },
     "execution_count": 140,
     "metadata": {},
     "output_type": "execute_result"
    }
   ],
   "source": [
    "# load all reviews\n",
    "counter = 0\n",
    "all_scores = []\n",
    "all_texts = []\n",
    "scores = []\n",
    "texts = []\n",
    "with open(\"data/synthesis_reviews/reviews.txt\") as f:\n",
    "    for line in f:\n",
    "        #print(counter, line)\n",
    "        if counter == 0:\n",
    "            counter += 1\n",
    "            continue\n",
    "        elif counter == 18:\n",
    "            counter = 0\n",
    "            line = line.strip()\n",
    "            elements = line.split(\"):\")\n",
    "            scores.append(int(elements[0].split(\"(\")[1].split(\"/\")[0]))\n",
    "            texts.append(elements[1].rstrip(\"\\n\"))\n",
    "            all_scores.append(scores)\n",
    "            all_texts.append(texts)\n",
    "            scores = []\n",
    "            texts = []\n",
    "        else:\n",
    "            line = line.strip()\n",
    "            elements = line.split(\"):\")\n",
    "            scores.append(int(elements[0].split(\"(\")[1].split(\"/\")[0]))\n",
    "            texts.append(elements[1].rstrip(\"\\n\"))\n",
    "            counter += 1\n",
    "\n",
    "all_scores"
   ]
  },
  {
   "cell_type": "code",
   "execution_count": 144,
   "id": "5b0809d6-5de3-4e41-ba0b-0f622abab96f",
   "metadata": {},
   "outputs": [],
   "source": [
    "def order_generation(counts):\n",
    "    for g in game_list:\n",
    "        if g not in counts.keys():\n",
    "            counts[g] = 0\n",
    "    ranking = [k for k, v in sorted(counts.items(), key=lambda x: x[1], reverse=True)]\n",
    "    ranking_idx = [game_list.index(i) for i in ranking]\n",
    "    return {\n",
    "        \"ranking\" : ranking,\n",
    "        \"ranking_idx\" : ranking_idx\n",
    "    }"
   ]
  },
  {
   "cell_type": "code",
   "execution_count": 145,
   "id": "49b0b4aa-a770-429c-a555-8e06d1c98d51",
   "metadata": {},
   "outputs": [],
   "source": [
    "results = []\n",
    "for x in range(50):\n",
    "    texts = all_texts[x] \n",
    "\n",
    "    # Batch processing\n",
    "    inputs = []\n",
    "    for i in range(len(game_list)-1):\n",
    "        for j in range(i+1, len(game_list)):\n",
    "            inputs.append((game_list[i], texts[i], game_list[j], texts[j]))\n",
    "    prompts = prompt_generation(inputs)\n",
    "    \n",
    "    prefered_games = []\n",
    "    for i in range(0, len(prompts), 32):\n",
    "        msgs = prompts[i:i+32]\n",
    "        inputs = tokenizer.apply_chat_template(\n",
    "            msgs,\n",
    "            tokenize = True,\n",
    "            padding = True,\n",
    "            truncation = False,\n",
    "            add_generation_prompt = True, # Must add for generation\n",
    "            return_tensors = \"pt\",\n",
    "        )\n",
    "        attention_mask = (inputs != tokenizer.pad_token_id).int()\n",
    "        outputs = model.generate(input_ids = inputs, max_new_tokens = 1024, attention_mask = attention_mask, use_cache = True)\n",
    "        gen_idx = len(inputs[0])\n",
    "        result = tokenizer.batch_decode(outputs[:, gen_idx:], skip_special_tokens = True)\n",
    "    \n",
    "        for k in range(len(result)):\n",
    "            prefered_game = result[k]\n",
    "            prefered_games.append(prefered_game)\n",
    "\n",
    "        counts = Counter(prefered_games)\n",
    "        ranking = counts.most_common()\n",
    "        result = order_generation(dict(counts))[\"ranking_idx\"]\n",
    "\n",
    "    results.append(result)"
   ]
  },
  {
   "cell_type": "code",
   "execution_count": 146,
   "id": "f06c66e0-7618-42a1-b571-91c949d9eb15",
   "metadata": {},
   "outputs": [
    {
     "data": {
      "text/plain": [
       "[[0, 7, 10, 3, 15, 9, 5, 13, 4, 2, 6, 11, 1, 12, 17, 16, 14, 8],\n",
       " [0, 7, 10, 15, 1, 3, 6, 9, 12, 13, 2, 5, 4, 17, 11, 16, 14, 8],\n",
       " [0, 7, 10, 1, 12, 15, 3, 9, 6, 13, 4, 2, 5, 17, 11, 16, 14, 8],\n",
       " [0, 7, 10, 3, 1, 12, 15, 9, 6, 4, 13, 11, 5, 17, 2, 16, 14, 8],\n",
       " [0, 7, 3, 10, 15, 1, 9, 12, 4, 5, 6, 13, 2, 17, 11, 16, 14, 8],\n",
       " [0, 7, 10, 15, 1, 12, 3, 9, 4, 6, 11, 13, 5, 2, 17, 16, 14, 8],\n",
       " [0, 7, 10, 1, 15, 12, 3, 6, 9, 13, 4, 5, 11, 17, 2, 16, 14, 8],\n",
       " [0, 7, 1, 10, 12, 15, 3, 4, 6, 13, 5, 9, 11, 17, 2, 16, 14, 8],\n",
       " [0, 7, 10, 15, 1, 12, 3, 9, 13, 11, 17, 6, 2, 4, 5, 16, 8, 14],\n",
       " [0, 7, 10, 15, 3, 13, 1, 4, 12, 9, 5, 11, 2, 17, 6, 16, 14, 8],\n",
       " [0, 7, 3, 9, 10, 13, 15, 4, 5, 11, 17, 6, 1, 12, 16, 2, 14, 8],\n",
       " [0, 7, 10, 15, 3, 1, 4, 9, 12, 13, 6, 2, 5, 11, 17, 16, 14, 8],\n",
       " [0, 7, 10, 15, 3, 6, 9, 13, 12, 17, 4, 2, 5, 11, 1, 14, 16, 8],\n",
       " [0, 7, 10, 12, 3, 1, 13, 15, 9, 4, 5, 6, 2, 11, 17, 16, 14, 8],\n",
       " [0, 7, 10, 15, 9, 1, 3, 12, 4, 13, 5, 6, 17, 2, 11, 14, 16, 8],\n",
       " [0, 10, 7, 12, 1, 15, 13, 4, 6, 3, 5, 9, 17, 11, 2, 16, 14, 8],\n",
       " [0, 7, 10, 3, 4, 13, 15, 1, 12, 9, 6, 5, 17, 11, 2, 16, 14, 8],\n",
       " [0, 7, 10, 15, 1, 12, 3, 9, 13, 4, 5, 11, 6, 17, 2, 16, 14, 8],\n",
       " [0, 7, 3, 10, 9, 15, 12, 1, 13, 4, 5, 17, 6, 11, 16, 14, 2, 8],\n",
       " [0, 7, 3, 10, 4, 6, 15, 9, 13, 12, 1, 2, 5, 17, 11, 16, 14, 8],\n",
       " [0, 7, 10, 15, 3, 1, 6, 12, 9, 13, 4, 5, 2, 11, 17, 16, 14, 8],\n",
       " [0, 7, 10, 15, 1, 3, 9, 12, 4, 6, 5, 13, 11, 17, 2, 16, 14, 8],\n",
       " [0, 7, 10, 12, 15, 13, 1, 3, 4, 5, 9, 6, 11, 17, 16, 14, 2, 8],\n",
       " [7, 0, 1, 15, 3, 5, 10, 9, 12, 4, 13, 6, 11, 17, 2, 16, 14, 8],\n",
       " [0, 7, 10, 1, 12, 3, 15, 4, 9, 13, 5, 6, 11, 17, 2, 16, 14, 8],\n",
       " [0, 10, 7, 12, 3, 1, 15, 9, 13, 5, 6, 4, 17, 2, 11, 16, 14, 8],\n",
       " [0, 7, 3, 10, 9, 6, 15, 11, 13, 4, 5, 2, 12, 17, 16, 14, 1, 8],\n",
       " [0, 7, 10, 3, 15, 12, 1, 13, 6, 9, 4, 5, 17, 11, 2, 16, 14, 8],\n",
       " [0, 7, 10, 12, 15, 3, 9, 1, 13, 4, 6, 11, 5, 2, 17, 16, 14, 8],\n",
       " [0, 7, 10, 15, 1, 3, 12, 9, 4, 6, 13, 5, 11, 17, 2, 16, 14, 8],\n",
       " [0, 7, 10, 12, 1, 15, 13, 3, 4, 5, 9, 6, 2, 11, 17, 16, 14, 8],\n",
       " [0, 7, 3, 10, 12, 1, 15, 9, 4, 13, 5, 6, 11, 2, 17, 16, 14, 8],\n",
       " [0, 3, 7, 9, 10, 15, 6, 12, 13, 1, 4, 5, 17, 11, 2, 16, 14, 8],\n",
       " [0, 7, 10, 1, 12, 3, 15, 9, 6, 13, 4, 5, 11, 2, 17, 16, 14, 8],\n",
       " [0, 7, 10, 1, 3, 12, 15, 9, 4, 6, 13, 5, 11, 2, 17, 16, 14, 8],\n",
       " [0, 7, 10, 9, 1, 12, 3, 15, 13, 4, 5, 6, 17, 11, 16, 14, 2, 8],\n",
       " [0, 7, 10, 3, 15, 4, 5, 13, 9, 12, 6, 1, 11, 2, 17, 16, 14, 8],\n",
       " [0, 7, 10, 15, 6, 3, 9, 11, 12, 13, 1, 4, 5, 17, 2, 16, 14, 8],\n",
       " [0, 7, 10, 3, 9, 15, 4, 12, 13, 5, 6, 1, 11, 17, 2, 16, 14, 8],\n",
       " [0, 10, 7, 1, 12, 15, 3, 9, 4, 6, 13, 5, 17, 11, 2, 16, 14, 8],\n",
       " [0, 7, 10, 3, 15, 6, 1, 12, 9, 13, 11, 5, 17, 2, 4, 16, 14, 8],\n",
       " [0, 7, 10, 3, 9, 15, 12, 13, 1, 4, 6, 5, 17, 11, 2, 16, 14, 8],\n",
       " [0, 7, 10, 15, 3, 1, 12, 6, 9, 13, 4, 2, 17, 5, 11, 16, 14, 8],\n",
       " [0, 7, 10, 3, 12, 15, 9, 13, 5, 1, 4, 6, 11, 17, 2, 16, 14, 8],\n",
       " [0, 7, 10, 15, 12, 1, 3, 9, 13, 6, 5, 17, 4, 2, 11, 16, 14, 8],\n",
       " [0, 3, 10, 7, 9, 15, 12, 17, 6, 13, 1, 5, 16, 11, 4, 2, 14, 8],\n",
       " [0, 7, 10, 1, 15, 3, 9, 12, 6, 13, 4, 5, 17, 11, 2, 16, 14, 8],\n",
       " [0, 7, 10, 3, 9, 15, 12, 1, 13, 6, 4, 5, 17, 11, 2, 16, 14, 8],\n",
       " [0, 7, 10, 3, 4, 12, 13, 15, 1, 9, 5, 6, 17, 11, 2, 16, 14, 8],\n",
       " [0, 7, 10, 9, 1, 12, 15, 3, 13, 4, 5, 6, 2, 17, 11, 16, 14, 8]]"
      ]
     },
     "execution_count": 146,
     "metadata": {},
     "output_type": "execute_result"
    }
   ],
   "source": [
    "results"
   ]
  },
  {
   "cell_type": "code",
   "execution_count": 79,
   "id": "ae0f09ab-8856-46e7-8660-7c86cc40e4d3",
   "metadata": {},
   "outputs": [],
   "source": [
    "#----------------------------------"
   ]
  },
  {
   "cell_type": "code",
   "execution_count": 80,
   "id": "bb70d733-3d1c-440b-a43e-484561846773",
   "metadata": {},
   "outputs": [],
   "source": [
    "import numpy as np\n",
    "\n",
    "def spearman_coefficient(list1, list2):\n",
    "    n = len(list1)\n",
    "    # 对两个列表分别进行排序，并获取排序后的索引\n",
    "    rank1 = [sorted(list1).index(x) + 1 for x in list1]\n",
    "    rank2 = [sorted(list2).index(x) + 1 for x in list2]\n",
    "    # 计算排序后的差值平方和\n",
    "    d_squared_sum = sum([(r1 - r2)**2 for r1, r2 in zip(rank1, rank2)])\n",
    "    # 计算 Spearman 相关系数\n",
    "    return 1 - (6 * d_squared_sum) / (n * (n**2 - 1))"
   ]
  },
  {
   "cell_type": "code",
   "execution_count": 81,
   "id": "62614223-a73a-4f65-be00-1b7c6686946a",
   "metadata": {},
   "outputs": [],
   "source": [
    "def order_generation_gt(scores):\n",
    "    counts = dict()\n",
    "    for i in range(len(game_list)):\n",
    "        counts[game_list[i]] = scores[i]\n",
    "    ranking = [k for k, v in sorted(counts.items(), key=lambda x: x[1], reverse=True)]\n",
    "    ranking_idx = [game_list.index(i) for i in ranking]\n",
    "    return {\n",
    "        \"ranking\" : ranking,\n",
    "        \"ranking_idx\" : ranking_idx\n",
    "    }"
   ]
  },
  {
   "cell_type": "code",
   "execution_count": 82,
   "id": "6cfec7e2-9221-47e1-bebb-d98bcd21a62d",
   "metadata": {},
   "outputs": [],
   "source": [
    "def order_generation(counts):\n",
    "    for g in game_list:\n",
    "        if g not in counts.keys():\n",
    "            counts[g] = 0\n",
    "    ranking = [k for k, v in sorted(counts.items(), key=lambda x: x[1], reverse=True)]\n",
    "    ranking_idx = [game_list.index(i) for i in ranking]\n",
    "    return {\n",
    "        \"ranking\" : ranking,\n",
    "        \"ranking_idx\" : ranking_idx\n",
    "    }"
   ]
  },
  {
   "cell_type": "code",
   "execution_count": 94,
   "id": "ba11c30d-380f-4617-b394-528112f04bd6",
   "metadata": {},
   "outputs": [
    {
     "name": "stdout",
     "output_type": "stream",
     "text": [
      "True\t\t\t\t\tCalculated\n",
      "Disco Elysium\t\t\tDisco Elysium\n",
      "God of War: Ragnarok\t\t\tThe Witcher 3: Wild Hunt\n",
      "Elden Ring\t\t\tGod of War: Ragnarok\n",
      "The Witcher 3: Wild Hunt\t\t\tElden Ring\n",
      "Total War: WARHAMMER III\t\t\tTotal War: WARHAMMER III\n",
      "Cities: Skylines\t\t\tCities: Skylines\n",
      "Resident Evil Village\t\t\tResident Evil Village\n",
      "Tom Clancy’s The Division 2\t\t\tPhasmophobia\n",
      "Resident Evil 3\t\t\tTom Clancy’s The Division 2\n",
      "Phasmophobia\t\t\tResident Evil 3\n",
      "Star Wars Jedi: Survivor\t\t\tJust Cause 3\n",
      "Pay Day 2\t\t\tPay Day 2\n",
      "Just Cause 3\t\t\tLies of P\n",
      "Anno 2205\t\t\tStar Wars Jedi: Survivor\n",
      "Lies of P\t\t\tAnno 2205\n",
      "Mafia III\t\t\tMafia III\n",
      "Lightning Returns: Final Fantasy XIII\t\t\tLightning Returns: Final Fantasy XIII\n",
      "Fallout 76\t\t\tFallout 76\n"
     ]
    }
   ],
   "source": [
    "result = order_generation(dict(counts))\n",
    "tresult = order_generation_gt(scores)\n",
    "print('True\\t\\t\\t\\t\\tCalculated')\n",
    "for i in range(len(result[\"ranking\"])):\n",
    "    print(f'{tresult[\"ranking\"][i]}\\t\\t\\t{result[\"ranking\"][i]}')"
   ]
  },
  {
   "cell_type": "code",
   "execution_count": 95,
   "id": "75b8ebbd-0c97-4213-93a8-aa1e8de96736",
   "metadata": {},
   "outputs": [
    {
     "name": "stdout",
     "output_type": "stream",
     "text": [
      "[0, 10, 15, 7, 3, 9, 13, 6, 4, 5, 12, 17, 11, 16, 1, 2, 14, 8]\n",
      "[0, 7, 10, 15, 3, 9, 13, 5, 6, 4, 11, 17, 1, 12, 16, 2, 14, 8]\n"
     ]
    }
   ],
   "source": [
    "print(tresult[\"ranking_idx\"])\n",
    "print(result[\"ranking_idx\"])"
   ]
  },
  {
   "cell_type": "code",
   "execution_count": 96,
   "id": "08879751-3d03-4ccb-ba7f-50f551d0ce39",
   "metadata": {},
   "outputs": [
    {
     "data": {
      "text/plain": [
       "0.5397316821465428"
      ]
     },
     "execution_count": 96,
     "metadata": {},
     "output_type": "execute_result"
    }
   ],
   "source": [
    "spearman_coefficient(result[\"ranking_idx\"], tresult[\"ranking_idx\"])"
   ]
  },
  {
   "cell_type": "code",
   "execution_count": 120,
   "id": "31a09f84-0181-4bfd-b07a-e7fa2bb4fc43",
   "metadata": {},
   "outputs": [
    {
     "name": "stdout",
     "output_type": "stream",
     "text": [
      "{'Disco Elysium': 17, 'Lies of P': 11, 'The Witcher 3: Wild Hunt': 16, 'God of War: Ragnarok': 15, 'Star Wars Jedi: Survivor': 9, 'Resident Evil Village': 9, 'Elden Ring': 14, 'Total War: WARHAMMER III': 12, 'Mafia III': 4, 'Phasmophobia': 5, 'Tom Clancy’s The Division 2': 10, 'Cities: Skylines': 10, 'Just Cause 3': 4, 'Pay Day 2': 6, 'Resident Evil 3': 8, 'Lightning Returns: Final Fantasy XIII': 1, 'Anno 2205': 2}\n",
      "True\t\t\t\t\tCalculated\n",
      "Disco Elysium\t\t\tDisco Elysium\n",
      "God of War: Ragnarok\t\t\tThe Witcher 3: Wild Hunt\n",
      "Elden Ring\t\t\tGod of War: Ragnarok\n",
      "The Witcher 3: Wild Hunt\t\t\tElden Ring\n",
      "Total War: WARHAMMER III\t\t\tTotal War: WARHAMMER III\n",
      "Tom Clancy’s The Division 2\t\t\tLies of P\n",
      "Cities: Skylines\t\t\tTom Clancy’s The Division 2\n",
      "Star Wars Jedi: Survivor\t\t\tCities: Skylines\n",
      "Pay Day 2\t\t\tStar Wars Jedi: Survivor\n",
      "Resident Evil Village\t\t\tResident Evil Village\n",
      "Lies of P\t\t\tResident Evil 3\n",
      "Resident Evil 3\t\t\tPay Day 2\n",
      "Phasmophobia\t\t\tPhasmophobia\n",
      "Just Cause 3\t\t\tMafia III\n",
      "Anno 2205\t\t\tJust Cause 3\n",
      "Mafia III\t\t\tAnno 2205\n",
      "Lightning Returns: Final Fantasy XIII\t\t\tLightning Returns: Final Fantasy XIII\n",
      "Fallout 76\t\t\tFallout 76\n",
      "TRUE: [0, 10, 15, 7, 3, 6, 9, 12, 17, 13, 1, 4, 5, 11, 16, 2, 14, 8]\n",
      "PRED: [0, 7, 10, 15, 3, 1, 6, 9, 12, 13, 4, 17, 5, 2, 11, 16, 14, 8]\n"
     ]
    },
    {
     "data": {
      "text/plain": [
       "0.33333333333333337"
      ]
     },
     "execution_count": 120,
     "metadata": {},
     "output_type": "execute_result"
    }
   ],
   "source": [
    "# load a user's reviews\n",
    "scores = []\n",
    "texts = []\n",
    "with open(\"data/synthesis_reviews/user_1.txt\") as f:\n",
    "    for line in f:\n",
    "        line = line.strip()\n",
    "        elements = line.split(\"):\")\n",
    "        scores.append(int(elements[0].split(\"(\")[1].split(\"/\")[0]))\n",
    "        texts.append(elements[1].rstrip(\"\\n\"))\n",
    "inputs = []\n",
    "for i in range(len(game_list)-1):\n",
    "    for j in range(i+1, len(game_list)):\n",
    "        inputs.append((game_list[i], texts[i], game_list[j], texts[j]))\n",
    "        \n",
    "prompts = prompt_generation(inputs)\n",
    "\n",
    "# Batch processing\n",
    "prefered_games = []\n",
    "for i in range(0, len(prompts), 64):\n",
    "    msgs = prompts[i:i+64]\n",
    "    inputs = tokenizer.apply_chat_template(\n",
    "        msgs,\n",
    "        tokenize = True,\n",
    "        padding = True,\n",
    "        truncation = False,\n",
    "        add_generation_prompt = True, # Must add for generation\n",
    "        return_tensors = \"pt\",\n",
    "    )\n",
    "    attention_mask = (inputs != tokenizer.pad_token_id).int()\n",
    "    outputs = model.generate(input_ids = inputs, max_new_tokens = 1024, attention_mask = attention_mask, use_cache = True)\n",
    "    gen_idx = len(inputs[0])\n",
    "    result = tokenizer.batch_decode(outputs[:, gen_idx:], skip_special_tokens = True)\n",
    "\n",
    "    for k in range(len(result)):\n",
    "        prefered_game = result[k]\n",
    "\n",
    "        prefered_games.append(prefered_game)\n",
    "\n",
    "from collections import Counter\n",
    "\n",
    "counts = Counter(prefered_games)\n",
    "ranking = counts.most_common()\n",
    "print(dict(counts))\n",
    "\n",
    "result = order_generation(dict(counts))\n",
    "tresult = order_generation_gt(scores)\n",
    "print('True\\t\\t\\t\\t\\tCalculated')\n",
    "for i in range(len(result[\"ranking\"])):\n",
    "    print(f'{tresult[\"ranking\"][i]}\\t\\t\\t{result[\"ranking\"][i]}')\n",
    "\n",
    "print(\"TRUE:\",tresult[\"ranking_idx\"])\n",
    "print(\"PRED:\",result[\"ranking_idx\"])\n",
    "\n",
    "spearman_coefficient(result[\"ranking_idx\"], tresult[\"ranking_idx\"])"
   ]
  },
  {
   "cell_type": "code",
   "execution_count": null,
   "id": "dee426c2-66bf-416c-a11f-672ca977d4a6",
   "metadata": {},
   "outputs": [],
   "source": []
  }
 ],
 "metadata": {
  "kernelspec": {
   "display_name": "Python 3 (ipykernel)",
   "language": "python",
   "name": "python3"
  },
  "language_info": {
   "codemirror_mode": {
    "name": "ipython",
    "version": 3
   },
   "file_extension": ".py",
   "mimetype": "text/x-python",
   "name": "python",
   "nbconvert_exporter": "python",
   "pygments_lexer": "ipython3",
   "version": "3.10.14"
  }
 },
 "nbformat": 4,
 "nbformat_minor": 5
}
